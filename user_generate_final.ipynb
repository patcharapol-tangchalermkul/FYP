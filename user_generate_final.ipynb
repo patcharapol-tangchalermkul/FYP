{
 "cells": [
  {
   "cell_type": "code",
   "execution_count": 1,
   "id": "5dabb954",
   "metadata": {},
   "outputs": [],
   "source": [
    "%load_ext autoreload\n",
    "%autoreload 2\n",
    "import torch\n",
    "import torch.utils.data\n",
    "import numpy as np\n",
    "import sklearn.datasets\n",
    "import sklearn.model_selection\n",
    "import matplotlib.pyplot as plt\n",
    "\n",
    "import abstract_gradient_training as agt"
   ]
  },
  {
   "cell_type": "code",
   "execution_count": null,
   "id": "013b54a3",
   "metadata": {},
   "outputs": [
    {
     "name": "stdout",
     "output_type": "stream",
     "text": [
      "[0 1 1 ... 1 1 0]\n"
     ]
    }
   ],
   "source": [
    "\"\"\"Initialise the halfmoons training data.\"\"\"\n",
    "seed = 0\n",
    "batchsize = 10000  # number of samples per batch\n",
    "test_size = 5000\n",
    "n_users = 1000\n",
    "n_batches = 1  # number of batches per epoch\n",
    "n_epochs = 10  # number of epochs\n",
    "\n",
    "torch.manual_seed(seed)\n",
    "# load the dataset\n",
    "x, y = sklearn.datasets.make_moons(noise=0.1, n_samples=n_batches*batchsize + test_size, random_state=seed)\n",
    "# to make it easier to train, we'll space the moons out a bit and add some polynomial features\n",
    "x[y==0, 1] += 0.2\n",
    "x = np.hstack((x, x**2, (x[:, 0] * x[:, 1])[:, None], x**3))\n",
    "\n",
    "\n",
    "# Train-test split\n",
    "x_train, x_test, y_train, y_test = sklearn.model_selection.train_test_split(\n",
    "    x, y, test_size=test_size / (n_batches * batchsize + test_size), random_state=seed\n",
    ")\n",
    "\n",
    "\n",
    "# Assign users randomly to each set after the split\n",
    "user_train = np.random.randint(1, n_users + 1, size=len(x_train))\n",
    "user_test = np.random.randint(1, n_users + 1, size=len(x_test))\n",
    "\n",
    "# Convert to PyTorch tensors\n",
    "x_train = torch.from_numpy(x_train).float()\n",
    "x_test = torch.from_numpy(x_test).float()\n",
    "y_train = torch.from_numpy(y_train)\n",
    "y_test = torch.from_numpy(y_test)\n",
    "user_train = torch.from_numpy(user_train)\n",
    "user_test = torch.from_numpy(user_test)\n",
    "\n",
    "# Combine inputs and both labels into TensorDatasets\n",
    "dataset_train = torch.utils.data.TensorDataset(x_train, user_train, y_train)\n",
    "dataset_test = torch.utils.data.TensorDataset(x_test, user_test, y_test)\n",
    "\n",
    "# Create DataLoaders\n",
    "dataloader_train = torch.utils.data.DataLoader(dataset_train, batch_size=batchsize, shuffle=True)\n",
    "dataloader_test = torch.utils.data.DataLoader(dataset_test, batch_size=batchsize, shuffle=False)\n",
    "\n"
   ]
  },
  {
   "cell_type": "code",
   "execution_count": null,
   "id": "2e42f0d8",
   "metadata": {},
   "outputs": [
    {
     "name": "stderr",
     "output_type": "stream",
     "text": [
      "[AGT] [INFO    ] [08:28:45] =================== Starting Privacy Certified Training ===================\n",
      "[AGT] [INFO    ] [08:28:45] k=0 suffers from numerical instability in the bounds, consider using k > 0 or dtype double.\n",
      "[AGT] [INFO    ] [08:28:45] Starting epoch 1\n",
      "[AGT] [INFO    ] [08:28:45] Batch 1. Loss (accuracy): 0.514 <= 0.514 <= 0.514\n",
      "[AGT] [INFO    ] [08:30:29] Dataloader has only one batch per epoch, effective batchsize may be smaller than expected.\n",
      "[AGT] [INFO    ] [08:30:29] Starting epoch 2\n",
      "[AGT] [INFO    ] [08:30:29] Batch 2. Loss (accuracy): 0.851 <= 0.851 <= 0.851\n",
      "[AGT] [INFO    ] [08:32:12] Starting epoch 3\n",
      "[AGT] [INFO    ] [08:32:12] Batch 3. Loss (accuracy): 0.847 <= 0.847 <= 0.847\n",
      "[AGT] [INFO    ] [08:33:54] Starting epoch 4\n",
      "[AGT] [INFO    ] [08:33:54] Batch 4. Loss (accuracy): 0.845 <= 0.845 <= 0.845\n",
      "[AGT] [INFO    ] [08:35:36] Starting epoch 5\n",
      "[AGT] [INFO    ] [08:35:36] Batch 5. Loss (accuracy): 0.844 <= 0.844 <= 0.844\n",
      "[AGT] [INFO    ] [08:37:19] Starting epoch 6\n",
      "[AGT] [INFO    ] [08:37:19] Batch 6. Loss (accuracy): 0.843 <= 0.843 <= 0.843\n",
      "[AGT] [INFO    ] [08:39:01] Starting epoch 7\n",
      "[AGT] [INFO    ] [08:39:01] Batch 7. Loss (accuracy): 0.843 <= 0.843 <= 0.843\n",
      "[AGT] [INFO    ] [08:40:42] Starting epoch 8\n",
      "[AGT] [INFO    ] [08:40:42] Batch 8. Loss (accuracy): 0.842 <= 0.842 <= 0.842\n",
      "[AGT] [INFO    ] [08:42:24] Starting epoch 9\n",
      "[AGT] [INFO    ] [08:42:24] Batch 9. Loss (accuracy): 0.839 <= 0.839 <= 0.839\n",
      "[AGT] [INFO    ] [08:44:05] Starting epoch 10\n",
      "[AGT] [INFO    ] [08:44:05] Batch 10. Loss (accuracy): 0.838 <= 0.838 <= 0.838\n",
      "[AGT] [INFO    ] [08:45:47] Final Eval. Loss (accuracy): 0.838 <= 0.838 <= 0.838\n",
      "[AGT] [INFO    ] [08:45:47] =================== Finished Privacy Certified Training ===================\n"
     ]
    }
   ],
   "source": [
    "import importlib\n",
    "importlib.reload(agt)\n",
    "\"\"\"Let's train a logistic classifier on the halfmoons example above.\"\"\"\n",
    "# model = torch.nn.Sequential(torch.nn.Linear(7, 2))\n",
    "torch.manual_seed(1)\n",
    "model = torch.nn.Sequential(\n",
    "    torch.nn.Linear(7, 128),\n",
    "    torch.nn.ReLU(),\n",
    "    torch.nn.Linear(128, 2),\n",
    ")\n",
    "config = agt.AGTConfig(\n",
    "    fragsize=2000,\n",
    "    learning_rate=0.5,\n",
    "    n_epochs=n_epochs,\n",
    "    device=\"cuda:0\",\n",
    "    l2_reg=0.01,\n",
    "    k_private=1,\n",
    "    loss=\"cross_entropy\",\n",
    "    log_level=\"INFO\",\n",
    "    lr_decay=2.0,\n",
    "    clip_gamma=1.0,\n",
    "    lr_min=0.001,\n",
    "    optimizer=\"SGDM\", # we'll use SGD with momentum\n",
    "    optimizer_kwargs={\"momentum\": 0.9, \"nesterov\": True},\n",
    ")\n",
    "# k_values = [1,2,5,10,20,50,100]  # using more values here will improve the guarantees AGT will give\n",
    "k_values = [0]  # using more values here will improve the guarantees AGT will give\n",
    "bounded_model_dict = {}  # we'll store our results for each value of 'k' as a dictionary from 'k' to the bounded model\n",
    "\n",
    "for k_private in k_values:\n",
    "    config.k_private=k_private\n",
    "    torch.manual_seed(seed)\n",
    "    bounded_model = agt.bounded_models.IntervalBoundedModel(model)\n",
    "    bounded_model = agt.privacy_certified_training_user_level(bounded_model, config, dataloader_train, dataloader_test)\n",
    "    bounded_model_dict[k_private] = bounded_model\n",
    "    \n",
    "    # as a metric, compute the number of predictions in the test set certified at this value of k_private\n",
    "    certified_preds = agt.test_metrics.certified_predictions(bounded_model, x_test)"
   ]
  },
  {
   "cell_type": "code",
   "execution_count": 4,
   "id": "87a2ea68",
   "metadata": {},
   "outputs": [
    {
     "ename": "KeyError",
     "evalue": "1",
     "output_type": "error",
     "traceback": [
      "\u001b[0;31m---------------------------------------------------------------------------\u001b[0m",
      "\u001b[0;31mKeyError\u001b[0m                                  Traceback (most recent call last)",
      "Cell \u001b[0;32mIn[4], line 11\u001b[0m\n\u001b[1;32m      6\u001b[0m \u001b[38;5;66;03m# compute accuracy using the smooth sensitivity Cauchy mechanism\u001b[39;00m\n\u001b[1;32m      7\u001b[0m smooth_sens_noise_level \u001b[38;5;241m=\u001b[39m agt\u001b[38;5;241m.\u001b[39mprivacy_utils\u001b[38;5;241m.\u001b[39mget_calibrated_noise_level(\n\u001b[1;32m      8\u001b[0m     x_test, bounded_model_dict, epsilon, noise_type\u001b[38;5;241m=\u001b[39m\u001b[38;5;124m\"\u001b[39m\u001b[38;5;124mcauchy\u001b[39m\u001b[38;5;124m\"\u001b[39m\n\u001b[1;32m      9\u001b[0m )\n\u001b[1;32m     10\u001b[0m smooth_sens_acc \u001b[38;5;241m=\u001b[39m agt\u001b[38;5;241m.\u001b[39mprivacy_utils\u001b[38;5;241m.\u001b[39mnoisy_test_accuracy(\n\u001b[0;32m---> 11\u001b[0m     \u001b[43mbounded_model_dict\u001b[49m\u001b[43m[\u001b[49m\u001b[38;5;241;43m1\u001b[39;49m\u001b[43m]\u001b[49m, x_test, y_test, noise_level\u001b[38;5;241m=\u001b[39msmooth_sens_noise_level, noise_type\u001b[38;5;241m=\u001b[39m\u001b[38;5;124m\"\u001b[39m\u001b[38;5;124mcauchy\u001b[39m\u001b[38;5;124m\"\u001b[39m\n\u001b[1;32m     12\u001b[0m )\n\u001b[1;32m     15\u001b[0m \u001b[38;5;66;03m# compute accuracy when using the global sensitivity mechanism\u001b[39;00m\n\u001b[1;32m     16\u001b[0m global_sens_acc \u001b[38;5;241m=\u001b[39m agt\u001b[38;5;241m.\u001b[39mprivacy_utils\u001b[38;5;241m.\u001b[39mnoisy_test_accuracy(\n\u001b[1;32m     17\u001b[0m     bounded_model_dict[\u001b[38;5;241m1\u001b[39m], x_test, y_test, noise_level\u001b[38;5;241m=\u001b[39m\u001b[38;5;241m1.0\u001b[39m \u001b[38;5;241m/\u001b[39m epsilon\n\u001b[1;32m     18\u001b[0m )\n",
      "\u001b[0;31mKeyError\u001b[0m: 1"
     ]
    }
   ],
   "source": [
    "\"\"\"Let's use this set of bounded models to for better private prediction using the smooth sensitivity mechanism.\"\"\"\n",
    "\n",
    "epsilon = 0.2  # privacy loss\n",
    "noise_free_acc = agt.test_metrics.test_accuracy(bounded_model_dict[0], x_test, y_test)[0]\n",
    "\n",
    "# compute accuracy using the smooth sensitivity Cauchy mechanism\n",
    "smooth_sens_noise_level = agt.privacy_utils.get_calibrated_noise_level(\n",
    "    x_test, bounded_model_dict, epsilon, noise_type=\"cauchy\"\n",
    ")\n",
    "smooth_sens_acc = agt.privacy_utils.noisy_test_accuracy(\n",
    "    bounded_model_dict[1], x_test, y_test, noise_level=smooth_sens_noise_level, noise_type=\"cauchy\"\n",
    ")\n",
    "\n",
    "\n",
    "# compute accuracy when using the global sensitivity mechanism\n",
    "global_sens_acc = agt.privacy_utils.noisy_test_accuracy(\n",
    "    bounded_model_dict[1], x_test, y_test, noise_level=1.0 / epsilon\n",
    ")\n",
    "\n",
    "print(f\"Noise Free Accuracy: {noise_free_acc:.2f}\")\n",
    "print(f\"Smooth Sensitivity Accuracy: {smooth_sens_acc:.2f}\")\n",
    "print(f\"Global Sensitivity Accuracy: {global_sens_acc:.2f}\")"
   ]
  },
  {
   "cell_type": "code",
   "execution_count": 5,
   "id": "a60807be",
   "metadata": {},
   "outputs": [],
   "source": [
    "for k in [0]:\n",
    "    bounded_model_dict[k].save_params(f\"model_user_10000/1000/k_{k}.model\")"
   ]
  },
  {
   "cell_type": "code",
   "execution_count": null,
   "id": "92c27565",
   "metadata": {},
   "outputs": [],
   "source": []
  },
  {
   "cell_type": "code",
   "execution_count": null,
   "id": "44a5e7d6",
   "metadata": {},
   "outputs": [],
   "source": [
    "# \"\"\"Initialise a large model (which will be random here but would be a pre-trained model in practice).\"\"\"\n",
    "# model = torch.nn.Sequential(\n",
    "#     torch.nn.Linear(7, 128),\n",
    "#     torch.nn.ReLU(),\n",
    "#     torch.nn.Linear(128, 128),\n",
    "#     torch.nn.ReLU(),\n",
    "#     torch.nn.Linear(128, 128),\n",
    "#     torch.nn.ReLU(),\n",
    "#     torch.nn.Linear(128, 2)\n",
    "# )\n",
    "# config = agt.AGTConfig(\n",
    "#     learning_rate=0.5,\n",
    "#     n_epochs=2,\n",
    "#     loss=\"cross_entropy\",\n",
    "#     log_level=\"INFO\",\n",
    "#     device=\"cuda:0\",\n",
    "#     clip_gamma=0.1,\n",
    "#     k_private=10\n",
    "# )\n",
    "\n",
    "# # first try training the whole thing - observe that the certified accuracy goes to zero\n",
    "# bounded_model = agt.bounded_models.IntervalBoundedModel(model)\n",
    "# bounded_model = agt.privacy_certified_training_user_level(bounded_model, config, dataloader_train, dataloader_test)\n",
    "\n",
    "# # second, split the model into a fixed part and a trainable part\n",
    "# fixed_layers, trainable_layers = model[:4], model[4:]\n",
    "# # wrap both in bounded models, using the first as the 'transform' argument to the second\n",
    "# transform = agt.bounded_models.IntervalBoundedModel(fixed_layers, trainable=False)\n",
    "# bounded_model = agt.bounded_models.IntervalBoundedModel(trainable_layers, transform=transform)\n",
    "# # train the model\n",
    "# bounded_model = agt.privacy_certified_training_user_level(bounded_model, config, dataloader_train, dataloader_test)"
   ]
  }
 ],
 "metadata": {
  "kernelspec": {
   "display_name": ".venv",
   "language": "python",
   "name": "python3"
  },
  "language_info": {
   "codemirror_mode": {
    "name": "ipython",
    "version": 3
   },
   "file_extension": ".py",
   "mimetype": "text/x-python",
   "name": "python",
   "nbconvert_exporter": "python",
   "pygments_lexer": "ipython3",
   "version": "3.10.12"
  }
 },
 "nbformat": 4,
 "nbformat_minor": 5
}
