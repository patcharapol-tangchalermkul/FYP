{
 "cells": [
  {
   "cell_type": "code",
   "execution_count": 2,
   "id": "f5a90550",
   "metadata": {},
   "outputs": [],
   "source": [
    "import os\n",
    "import copy\n",
    "\n",
    "import torch\n",
    "import tqdm\n",
    "import torchvision\n",
    "\n",
    "from typing import Literal\n",
    "\n",
    "import abstract_gradient_training as agt\n",
    "from abstract_gradient_training import AGTConfig\n",
    "from abstract_gradient_training.bounded_models import IntervalBoundedModel"
   ]
  },
  {
   "cell_type": "code",
   "execution_count": 3,
   "id": "4532a158",
   "metadata": {},
   "outputs": [],
   "source": [
    "import torch\n",
    "import pandas as pd\n",
    "from sklearn.model_selection import train_test_split\n",
    "\n",
    "def get_datasets(csv_path='cubic_with_noise.csv', test_size=0.2, balanced=False):\n",
    "    \"\"\"\n",
    "    Load cubic dataset with noise from CSV and return train/test datasets as TensorDatasets.\n",
    "\n",
    "    Args:\n",
    "        csv_path (str): Path to the dataset CSV file.\n",
    "        test_size (float): Fraction of data to use for testing.\n",
    "        balanced (bool): Whether to balance the dataset based on the sign of the target.\n",
    "\n",
    "    Returns:\n",
    "        train_dataset, test_dataset (TensorDataset, TensorDataset)\n",
    "    \"\"\"\n",
    "\n",
    "    # Load dataset\n",
    "    df = pd.read_csv(csv_path)\n",
    "    x = torch.tensor(df['x'].values, dtype=torch.float32).unsqueeze(1)\n",
    "    y = torch.tensor(df['y'].values, dtype=torch.float32).unsqueeze(1)\n",
    "\n",
    "    # Optional \"balancing\" — for example, balance data with y > 0 and y <= 0\n",
    "    if balanced:\n",
    "        y_binary = (y > 0).squeeze()\n",
    "        idx_pos = torch.where(y_binary == 1)[0]\n",
    "        idx_neg = torch.where(y_binary == 0)[0]\n",
    "        n_samples = min(len(idx_pos), len(idx_neg))\n",
    "\n",
    "        # Shuffle and sample\n",
    "        idx_pos = idx_pos[torch.randperm(len(idx_pos))[:n_samples]]\n",
    "        idx_neg = idx_neg[torch.randperm(len(idx_neg))[:n_samples]]\n",
    "        idx = torch.cat([idx_pos, idx_neg])\n",
    "\n",
    "        x = x[idx]\n",
    "        y = y[idx]\n",
    "\n",
    "    # Split into train/test\n",
    "    x_train, x_test, y_train, y_test = train_test_split(x, y, test_size=test_size, random_state=42)\n",
    "\n",
    "    # Wrap in TensorDataset\n",
    "    train_dataset = torch.utils.data.TensorDataset(x_train, y_train)\n",
    "    test_dataset = torch.utils.data.TensorDataset(x_test, y_test)\n",
    "\n",
    "    return train_dataset, test_dataset\n"
   ]
  },
  {
   "cell_type": "code",
   "execution_count": 6,
   "id": "c9b7b0f2",
   "metadata": {},
   "outputs": [],
   "source": [
    "torch.manual_seed(1)\n",
    "model = torch.nn.Sequential(\n",
    "    torch.nn.Linear(1, 32),\n",
    "    torch.nn.ReLU(),\n",
    "    torch.nn.Linear(32, 1),\n",
    ")"
   ]
  },
  {
   "cell_type": "code",
   "execution_count": null,
   "id": "e2054522",
   "metadata": {},
   "outputs": [],
   "source": [
    "# set up the pre-training configuration\n",
    "device = torch.device(\"cuda:0\" if torch.cuda.is_available() else \"cpu\")\n",
    "# device = torch.device(\"cpu\")\n",
    "pretrain_batchsize = 1000000\n",
    "pretrain_n_epochs = 25\n",
    "pretrain_learning_rate = 1\n",
    "dataset_pretrain, _ = get_datasets(balanced=True)\n",
    "dl_pretrain = torch.utils.data.DataLoader(dataset_pretrain, batch_size=pretrain_batchsize, shuffle=True)\n",
    "model = model.to(device)"
   ]
  },
  {
   "cell_type": "code",
   "execution_count": 8,
   "id": "e37789e5",
   "metadata": {},
   "outputs": [],
   "source": [
    "criterion = torch.nn.MSELoss()\n",
    "# criterion = torch.nn.L1Loss()\n",
    "optimizer = torch.optim.Adam(model.parameters(), lr=pretrain_learning_rate)\n",
    "model = model.to(device)"
   ]
  },
  {
   "cell_type": "code",
   "execution_count": null,
   "id": "44c715e5",
   "metadata": {},
   "outputs": [
    {
     "name": "stderr",
     "output_type": "stream",
     "text": [
      "Epoch:   0%|          | 0/25 [00:00<?, ?it/s]"
     ]
    },
    {
     "name": "stderr",
     "output_type": "stream",
     "text": [
      "Epoch:   4%|▍         | 1/25 [00:11<04:40, 11.68s/it, loss=133]"
     ]
    },
    {
     "name": "stdout",
     "output_type": "stream",
     "text": [
      "tensor(133.4118, grad_fn=<MseLossBackward0>)\n"
     ]
    },
    {
     "name": "stderr",
     "output_type": "stream",
     "text": [
      "Epoch:   8%|▊         | 2/25 [00:23<04:25, 11.56s/it, loss=198]"
     ]
    },
    {
     "name": "stdout",
     "output_type": "stream",
     "text": [
      "tensor(197.5655, grad_fn=<MseLossBackward0>)\n"
     ]
    },
    {
     "name": "stderr",
     "output_type": "stream",
     "text": [
      "Epoch:  12%|█▏        | 3/25 [00:34<04:08, 11.32s/it, loss=974]"
     ]
    },
    {
     "name": "stdout",
     "output_type": "stream",
     "text": [
      "tensor(973.7467, grad_fn=<MseLossBackward0>)\n"
     ]
    },
    {
     "name": "stderr",
     "output_type": "stream",
     "text": [
      "Epoch:  16%|█▌        | 4/25 [00:44<03:46, 10.81s/it, loss=202]"
     ]
    },
    {
     "name": "stdout",
     "output_type": "stream",
     "text": [
      "tensor(202.4293, grad_fn=<MseLossBackward0>)\n"
     ]
    },
    {
     "name": "stderr",
     "output_type": "stream",
     "text": [
      "Epoch:  20%|██        | 5/25 [00:54<03:33, 10.67s/it, loss=181]"
     ]
    },
    {
     "name": "stdout",
     "output_type": "stream",
     "text": [
      "tensor(180.6172, grad_fn=<MseLossBackward0>)\n"
     ]
    },
    {
     "name": "stderr",
     "output_type": "stream",
     "text": [
      "Epoch:  24%|██▍       | 6/25 [01:04<03:18, 10.47s/it, loss=102]"
     ]
    },
    {
     "name": "stdout",
     "output_type": "stream",
     "text": [
      "tensor(102.4689, grad_fn=<MseLossBackward0>)\n"
     ]
    },
    {
     "name": "stderr",
     "output_type": "stream",
     "text": [
      "Epoch:  28%|██▊       | 7/25 [01:14<03:04, 10.27s/it, loss=89.3]"
     ]
    },
    {
     "name": "stdout",
     "output_type": "stream",
     "text": [
      "tensor(89.3124, grad_fn=<MseLossBackward0>)\n"
     ]
    },
    {
     "name": "stderr",
     "output_type": "stream",
     "text": [
      "Epoch:  32%|███▏      | 8/25 [01:23<02:49,  9.98s/it, loss=79.4]"
     ]
    },
    {
     "name": "stdout",
     "output_type": "stream",
     "text": [
      "tensor(79.3844, grad_fn=<MseLossBackward0>)\n"
     ]
    },
    {
     "name": "stderr",
     "output_type": "stream",
     "text": [
      "Epoch:  36%|███▌      | 9/25 [01:33<02:37,  9.84s/it, loss=86.9]"
     ]
    },
    {
     "name": "stdout",
     "output_type": "stream",
     "text": [
      "tensor(86.9046, grad_fn=<MseLossBackward0>)\n"
     ]
    },
    {
     "name": "stderr",
     "output_type": "stream",
     "text": [
      "Epoch:  40%|████      | 10/25 [01:42<02:25,  9.72s/it, loss=110]"
     ]
    },
    {
     "name": "stdout",
     "output_type": "stream",
     "text": [
      "tensor(110.0459, grad_fn=<MseLossBackward0>)\n"
     ]
    },
    {
     "name": "stderr",
     "output_type": "stream",
     "text": [
      "Epoch:  44%|████▍     | 11/25 [01:54<02:23, 10.28s/it, loss=120]"
     ]
    },
    {
     "name": "stdout",
     "output_type": "stream",
     "text": [
      "tensor(119.6943, grad_fn=<MseLossBackward0>)\n"
     ]
    },
    {
     "name": "stderr",
     "output_type": "stream",
     "text": [
      "Epoch:  48%|████▊     | 12/25 [02:09<02:30, 11.60s/it, loss=106]"
     ]
    },
    {
     "name": "stdout",
     "output_type": "stream",
     "text": [
      "tensor(106.0012, grad_fn=<MseLossBackward0>)\n"
     ]
    },
    {
     "name": "stderr",
     "output_type": "stream",
     "text": [
      "Epoch:  52%|█████▏    | 13/25 [02:20<02:17, 11.50s/it, loss=74.7]"
     ]
    },
    {
     "name": "stdout",
     "output_type": "stream",
     "text": [
      "tensor(74.7218, grad_fn=<MseLossBackward0>)\n"
     ]
    },
    {
     "name": "stderr",
     "output_type": "stream",
     "text": [
      "Epoch:  56%|█████▌    | 14/25 [02:31<02:05, 11.40s/it, loss=46]  "
     ]
    },
    {
     "name": "stdout",
     "output_type": "stream",
     "text": [
      "tensor(45.9627, grad_fn=<MseLossBackward0>)\n"
     ]
    },
    {
     "name": "stderr",
     "output_type": "stream",
     "text": [
      "Epoch:  60%|██████    | 15/25 [02:42<01:52, 11.24s/it, loss=41.8]"
     ]
    },
    {
     "name": "stdout",
     "output_type": "stream",
     "text": [
      "tensor(41.8118, grad_fn=<MseLossBackward0>)\n"
     ]
    },
    {
     "name": "stderr",
     "output_type": "stream",
     "text": [
      "Epoch:  64%|██████▍   | 16/25 [02:55<01:46, 11.79s/it, loss=65.7]"
     ]
    },
    {
     "name": "stdout",
     "output_type": "stream",
     "text": [
      "tensor(65.6716, grad_fn=<MseLossBackward0>)\n"
     ]
    },
    {
     "name": "stderr",
     "output_type": "stream",
     "text": [
      "Epoch:  68%|██████▊   | 17/25 [03:05<01:30, 11.37s/it, loss=65.1]"
     ]
    },
    {
     "name": "stdout",
     "output_type": "stream",
     "text": [
      "tensor(65.0560, grad_fn=<MseLossBackward0>)\n"
     ]
    },
    {
     "name": "stderr",
     "output_type": "stream",
     "text": [
      "Epoch:  72%|███████▏  | 18/25 [03:16<01:17, 11.01s/it, loss=46]  "
     ]
    },
    {
     "name": "stdout",
     "output_type": "stream",
     "text": [
      "tensor(45.9705, grad_fn=<MseLossBackward0>)\n"
     ]
    },
    {
     "name": "stderr",
     "output_type": "stream",
     "text": [
      "Epoch:  76%|███████▌  | 19/25 [03:26<01:05, 10.88s/it, loss=40.8]"
     ]
    },
    {
     "name": "stdout",
     "output_type": "stream",
     "text": [
      "tensor(40.8173, grad_fn=<MseLossBackward0>)\n"
     ]
    },
    {
     "name": "stderr",
     "output_type": "stream",
     "text": [
      "Epoch:  80%|████████  | 20/25 [03:38<00:55, 11.15s/it, loss=43.7]"
     ]
    },
    {
     "name": "stdout",
     "output_type": "stream",
     "text": [
      "tensor(43.7136, grad_fn=<MseLossBackward0>)\n"
     ]
    },
    {
     "name": "stderr",
     "output_type": "stream",
     "text": [
      "Epoch:  84%|████████▍ | 21/25 [03:48<00:43, 10.84s/it, loss=40.3]"
     ]
    },
    {
     "name": "stdout",
     "output_type": "stream",
     "text": [
      "tensor(40.3213, grad_fn=<MseLossBackward0>)\n"
     ]
    },
    {
     "name": "stderr",
     "output_type": "stream",
     "text": [
      "Epoch:  88%|████████▊ | 22/25 [03:58<00:31, 10.65s/it, loss=32]  "
     ]
    },
    {
     "name": "stdout",
     "output_type": "stream",
     "text": [
      "tensor(31.9562, grad_fn=<MseLossBackward0>)\n"
     ]
    },
    {
     "name": "stderr",
     "output_type": "stream",
     "text": [
      "Epoch:  92%|█████████▏| 23/25 [04:08<00:21, 10.51s/it, loss=30]"
     ]
    },
    {
     "name": "stdout",
     "output_type": "stream",
     "text": [
      "tensor(30.0088, grad_fn=<MseLossBackward0>)\n"
     ]
    },
    {
     "name": "stderr",
     "output_type": "stream",
     "text": [
      "Epoch:  96%|█████████▌| 24/25 [04:19<00:10, 10.58s/it, loss=34.8]"
     ]
    },
    {
     "name": "stdout",
     "output_type": "stream",
     "text": [
      "tensor(34.8340, grad_fn=<MseLossBackward0>)\n"
     ]
    },
    {
     "name": "stderr",
     "output_type": "stream",
     "text": [
      "Epoch: 100%|██████████| 25/25 [04:30<00:00, 10.81s/it, loss=35]  "
     ]
    },
    {
     "name": "stdout",
     "output_type": "stream",
     "text": [
      "tensor(34.9698, grad_fn=<MseLossBackward0>)\n"
     ]
    },
    {
     "name": "stderr",
     "output_type": "stream",
     "text": [
      "\n"
     ]
    }
   ],
   "source": [
    "models_dir = \".models\"\n",
    "rerun = True\n",
    "if not os.path.exists(models_dir):\n",
    "    os.makedirs(models_dir)\n",
    "\n",
    "# check if a pre-trained model exists\n",
    "if os.path.exists(f\"{models_dir}/x_3.ckpt\") and not rerun:\n",
    "    model.load_state_dict(torch.load(f\"{models_dir}/x_3.ckpt\"))\n",
    "else:  # pre-train the model\n",
    "    progress_bar = tqdm.trange(pretrain_n_epochs, desc=\"Epoch\", )\n",
    "    for epoch in progress_bar:\n",
    "        for i, (x, u) in enumerate(dl_pretrain):\n",
    "            # Forward pass\n",
    "            u, x = u.to(device), x.to(device)\n",
    "            output = model(x)\n",
    "            loss = criterion(output.squeeze().float(), u.squeeze().float())\n",
    "            # Backward and optimize\n",
    "            optimizer.zero_grad()\n",
    "            loss.backward()\n",
    "            optimizer.step()\n",
    "            print(loss)\n",
    "            if i % 100 == 0:\n",
    "                progress_bar.set_postfix(loss=loss.item())\n",
    "    # save the model\n",
    "    with open(f\"{models_dir}/x_3.ckpt\", \"wb\") as file:\n",
    "        torch.save(model.state_dict(), file)"
   ]
  },
  {
   "cell_type": "code",
   "execution_count": 8,
   "id": "ddc52f4c",
   "metadata": {},
   "outputs": [],
   "source": [
    "# evaluate the pre-trained model\n",
    "_, dataset_test_all = get_datasets()\n",
    "x, u = dataset_test_all.tensors\n",
    "u, x = u.to(device), x.to(device)\n",
    "output = model(x)\n",
    "out = torch.cat((x, x * x * x, u, output), 1)"
   ]
  },
  {
   "cell_type": "code",
   "execution_count": 9,
   "id": "21a030b0",
   "metadata": {},
   "outputs": [
    {
     "data": {
      "image/png": "[encoded data removed]",
      "text/plain": [
       "<Figure size 800x600 with 1 Axes>"
      ]
     },
     "metadata": {},
     "output_type": "display_data"
    }
   ],
   "source": [
    "import matplotlib.pyplot as plt\n",
    "\n",
    "# Plot the data\n",
    "plt.figure(figsize=(8, 6))\n",
    "plt.scatter(x.tolist(), u.tolist(), color='blue', alpha=0.6, label='Data with noise')\n",
    "plt.scatter(x.tolist(), (x * x * x).tolist(), color='red', label='True function: $x^3$')\n",
    "plt.scatter(x.tolist(), output.tolist(), color='green', label='Model function: $x^3$')\n",
    "plt.title('Dataset for $y = x^3 + \\\\text{noise}$')\n",
    "plt.xlabel('x')\n",
    "plt.ylabel('y')\n",
    "plt.legend()\n",
    "plt.grid(True)\n",
    "# plt.savefig(\"tmp.png\")"
   ]
  },
  {
   "cell_type": "code",
   "execution_count": 4,
   "id": "3111b765",
   "metadata": {},
   "outputs": [],
   "source": [
    "device = torch.device(\"cuda:0\" if torch.cuda.is_available() else \"cpu\")\n",
    "# set up the AGT configuration\n",
    "batchsize = 1000000\n",
    "nominal_config = AGTConfig(\n",
    "    fragsize=2000,\n",
    "    learning_rate=1,\n",
    "    n_epochs=5,\n",
    "    device=\"cuda:0\",\n",
    "    # device=\"cuda:1\",\n",
    "    # device=\"cpu\",\n",
    "    l2_reg=0.01,\n",
    "    k_private=1,\n",
    "    loss=\"mse\",\n",
    "    log_level=\"INFO\",\n",
    "    lr_decay=2.0,\n",
    "    clip_gamma=1.0,\n",
    "    lr_min=0.001,\n",
    "    optimizer=\"SGDM\", # we'll use SGD with momentum\n",
    "    optimizer_kwargs={\"momentum\": 0.9, \"nesterov\": True},\n",
    ")"
   ]
  },
  {
   "cell_type": "code",
   "execution_count": 7,
   "id": "8f0c6a73",
   "metadata": {},
   "outputs": [],
   "source": [
    "# get dataloaders\n",
    "dataset_train, dataset_test = get_datasets(balanced=True) \n",
    "torch.manual_seed(0)\n",
    "\n",
    "dl_train = torch.utils.data.DataLoader(dataset_train, batch_size=batchsize, shuffle=True)\n",
    "dl_test = torch.utils.data.DataLoader(dataset_test, batch_size=batchsize, shuffle=False)"
   ]
  },
  {
   "cell_type": "code",
   "execution_count": 15,
   "id": "d529ddd3",
   "metadata": {},
   "outputs": [],
   "source": [
    "torch.manual_seed(1)\n",
    "model = torch.nn.Sequential(\n",
    "    torch.nn.Linear(1, 32),\n",
    "    torch.nn.ReLU(),\n",
    "    torch.nn.Linear(32, 1),\n",
    ")\n",
    "bounded_model = IntervalBoundedModel(model, trainable=True)"
   ]
  },
  {
   "cell_type": "code",
   "execution_count": 16,
   "id": "eebed10a",
   "metadata": {},
   "outputs": [
    {
     "name": "stderr",
     "output_type": "stream",
     "text": [
      "[AGT] [INFO    ] [14:58:15] =================== Starting Privacy Certified Training ===================\n",
      "[AGT] [INFO    ] [14:58:16] Starting epoch 1\n",
      "[AGT] [INFO    ] [14:58:28] Batch 1. Loss (mse): 132.487 <= 132.487 <= 132.487\n",
      "[AGT] [INFO    ] [14:59:42] Dataloader has only one batch per epoch, effective batchsize may be smaller than expected.\n",
      "[AGT] [INFO    ] [14:59:42] Starting epoch 2\n",
      "[AGT] [INFO    ] [14:59:54] Batch 2. Loss (mse): 59.846 <= 59.848 <= 59.850\n",
      "[AGT] [INFO    ] [15:01:11] Starting epoch 3\n",
      "[AGT] [INFO    ] [15:01:23] Batch 3. Loss (mse): 48.734 <= 48.740 <= 48.745\n",
      "[AGT] [INFO    ] [15:02:38] Starting epoch 4\n",
      "[AGT] [INFO    ] [15:02:50] Batch 4. Loss (mse): 47.030 <= 47.042 <= 47.054\n",
      "[AGT] [INFO    ] [15:04:06] Starting epoch 5\n",
      "[AGT] [INFO    ] [15:04:17] Batch 5. Loss (mse): 46.987 <= 47.011 <= 47.035\n",
      "[AGT] [INFO    ] [15:05:38] Final Eval. Loss (mse): 47.294 <= 47.338 <= 47.382\n",
      "[AGT] [INFO    ] [15:05:38] =================== Finished Privacy Certified Training ===================\n"
     ]
    },
    {
     "data": {
      "text/plain": [
       "IntervalBoundedModel(\n",
       "\tself.modules=[\n",
       "\t\tLinear(in_features=1, out_features=32, bias=True)\n",
       "\t\tReLU()\n",
       "\t\tLinear(in_features=32, out_features=1, bias=True)\n",
       "\t],\n",
       "\tself.interval_matmul='rump',\n",
       "\tself.trainable=True,\n",
       ")"
      ]
     },
     "execution_count": 16,
     "metadata": {},
     "output_type": "execute_result"
    }
   ],
   "source": [
    "agt.privacy_certified_training(bounded_model, nominal_config, dl_train, dl_test)"
   ]
  },
  {
   "cell_type": "code",
   "execution_count": 17,
   "id": "ed014185",
   "metadata": {},
   "outputs": [
    {
     "name": "stdout",
     "output_type": "stream",
     "text": [
      "Fine-tuned model accuracy + certified bounds (all classes): 47.71 <= 47.67 <= 47.63\n"
     ]
    }
   ],
   "source": [
    "# evaluate the fine-tuned model\n",
    "_, dataset_test_all = get_datasets()\n",
    "accuracy = agt.test_metrics.test_mse(bounded_model, *dataset_test_all.tensors)\n",
    "print(f\"Fine-tuned model accuracy + certified bounds (all classes): {accuracy[0]:.2f} <= {accuracy[1]:.2f} <= {accuracy[2]:.2f}\")"
   ]
  },
  {
   "cell_type": "code",
   "execution_count": 9,
   "id": "a73834a2",
   "metadata": {},
   "outputs": [],
   "source": [
    "import torch.nn.functional as F\n",
    "from abstract_gradient_training.bounded_models import BoundedModel\n",
    "def noisy_test_mse(\n",
    "    model: torch.nn.Sequential | BoundedModel,\n",
    "    batch: torch.Tensor,\n",
    "    labels: torch.Tensor,\n",
    "    noise_level: float | torch.Tensor = 0.0,\n",
    "    noise_type: str = \"laplace\",\n",
    ") -> float:\n",
    "    \"\"\"\n",
    "    Given a pytorch (or bounded) model, calculate the prediction accuracy on a batch of the test set when adding the\n",
    "    specified noise to the predictions.\n",
    "    NOTE: For now, this function only supports binary classification via the noise + threshold dp mechanism. This\n",
    "          should be extended to support multi-class problems via the noisy-argmax mechanism in the future.\n",
    "\n",
    "    Args:\n",
    "        model (torch.nn.Sequential | BoundedModel): The model to evaluate.\n",
    "        batch (torch.Tensor): Input batch of data (shape [batchsize, ...]).\n",
    "        labels (torch.Tensor): Targets for the input batch (shape [batchsize, ]).\n",
    "        noise_level (float | torch.Tensor, optional): Noise level for privacy-preserving predictions using the laplace\n",
    "            mechanism. Can either be a float or a torch.Tensor of shape (batchsize, ).\n",
    "        noise_type (str, optional): Type of noise to add to the predictions, one of [\"laplace\", \"cauchy\"].\n",
    "\n",
    "    Returns:\n",
    "        float: The noisy accuracy of the model on the test set.\n",
    "    \"\"\"\n",
    "    # get the test batch and send it to the correct device\n",
    "    if isinstance(model, BoundedModel):\n",
    "        device = torch.device(model.device) if model.device != -1 else torch.device(\"cpu\")\n",
    "    else:\n",
    "        device = torch.device(next(model.parameters()).device)\n",
    "    batch = batch.to(device)\n",
    "    \n",
    "    # validate the labels\n",
    "    if labels.dim() > 1:\n",
    "        labels = labels.squeeze()\n",
    "        \n",
    "    labels = labels.to(device).type(torch.float64)\n",
    "    assert labels.dim() == 1, \"Labels must be of shape (batchsize, )\"\n",
    "\n",
    "    if noise_type in [\"none\"]:\n",
    "        # nominal, lower and upper bounds for the forward pass\n",
    "        y_n = model.forward(batch).squeeze()\n",
    "        return F.mse_loss(y_n, labels.squeeze()).item()\n",
    "\n",
    "    # validate the noise parameters and set up the distribution\n",
    "    assert noise_type in [\"laplace\", \"cauchy\"], f\"Noise type must be one of ['laplace', 'cauchy'], got {noise_type}\"\n",
    "    noise_level += 1e-7  # can't set distributions scale to zero\n",
    "    noise_level = torch.tensor(noise_level) if isinstance(noise_level, float) else noise_level\n",
    "    noise_level = noise_level.to(device).type(batch.dtype)  # type: ignore\n",
    "    noise_level = noise_level.expand(labels.size())\n",
    "    if noise_type == \"laplace\":\n",
    "        noise_distribution = torch.distributions.Laplace(0, noise_level)\n",
    "    else:\n",
    "        noise_distribution = torch.distributions.Cauchy(0, noise_level)\n",
    "\n",
    "    # nominal, lower and upper bounds for the forward pass\n",
    "    y_n = model.forward(batch).squeeze()\n",
    "\n",
    "    # transform 2-logit models to a single output\n",
    "    if y_n.shape[-1] == 2:\n",
    "        y_n = y_n[:, 1] - y_n[:, 0]\n",
    "    if y_n.dim() > 1:\n",
    "        raise NotImplementedError(\"Noisy accuracy is not supported for multi-class classification.\")\n",
    "\n",
    "    # apply noise + threshold dp mechanisim\n",
    "    noise = noise_distribution.sample().to(y_n.device).squeeze()\n",
    "    assert noise.shape == y_n.shape\n",
    "    y_n = y_n + noise\n",
    "    accuracy = F.mse_loss(y_n, labels.squeeze()).item()\n",
    "    return accuracy"
   ]
  },
  {
   "cell_type": "code",
   "execution_count": 20,
   "id": "b6dbe223",
   "metadata": {},
   "outputs": [
    {
     "name": "stdout",
     "output_type": "stream",
     "text": [
      "Loss using global sensitivity: 46.49\n"
     ]
    }
   ],
   "source": [
    "# make privacy-safe predictions using the global sensitivity\n",
    "epsilon = 1.0\n",
    "_, dataset_test_all = get_datasets()\n",
    "loss = noisy_test_mse(\n",
    "    bounded_model, *dataset_test_all.tensors, noise_level=1 / epsilon, noise_type=\"laplace\"\n",
    ")\n",
    "print(f\"Loss using global sensitivity: {loss:.2f}\")"
   ]
  },
  {
   "cell_type": "code",
   "execution_count": 4,
   "id": "1664c694",
   "metadata": {},
   "outputs": [
    {
     "ename": "NameError",
     "evalue": "name 'bounded_model' is not defined",
     "output_type": "error",
     "traceback": [
      "\u001b[0;31m---------------------------------------------------------------------------\u001b[0m",
      "\u001b[0;31mNameError\u001b[0m                                 Traceback (most recent call last)",
      "Cell \u001b[0;32mIn[4], line 5\u001b[0m\n\u001b[1;32m      3\u001b[0m importlib\u001b[38;5;241m.\u001b[39mreload(privacy_utils_regression)\n\u001b[1;32m      4\u001b[0m privacy_bounded_models \u001b[38;5;241m=\u001b[39m {}\n\u001b[0;32m----> 5\u001b[0m privacy_bounded_models[\u001b[38;5;241m1\u001b[39m] \u001b[38;5;241m=\u001b[39m \u001b[43mbounded_model\u001b[49m\n\u001b[1;32m      7\u001b[0m \u001b[38;5;66;03m# make privacy-safe predictions using the smooth sensitivity bounds from AGT\u001b[39;00m\n\u001b[1;32m      8\u001b[0m noise_level \u001b[38;5;241m=\u001b[39m privacy_utils_regression\u001b[38;5;241m.\u001b[39mget_calibrated_noise_level(\n\u001b[1;32m      9\u001b[0m     dataset_test_all\u001b[38;5;241m.\u001b[39mtensors[\u001b[38;5;241m0\u001b[39m], privacy_bounded_models, min_bound\u001b[38;5;241m=\u001b[39m\u001b[38;5;241m-\u001b[39m\u001b[38;5;241m1\u001b[39m, max_bound\u001b[38;5;241m=\u001b[39m\u001b[38;5;241m1\u001b[39m, epsilon\u001b[38;5;241m=\u001b[39mepsilon, noise_type\u001b[38;5;241m=\u001b[39m\u001b[38;5;124m\"\u001b[39m\u001b[38;5;124mcauchy\u001b[39m\u001b[38;5;124m\"\u001b[39m \n\u001b[1;32m     10\u001b[0m )\n",
      "\u001b[0;31mNameError\u001b[0m: name 'bounded_model' is not defined"
     ]
    }
   ],
   "source": [
    "import importlib\n",
    "import privacy_utils_regression\n",
    "importlib.reload(privacy_utils_regression)\n",
    "privacy_bounded_models = {}\n",
    "privacy_bounded_models[1] = bounded_model\n",
    "\n",
    "# make privacy-safe predictions using the smooth sensitivity bounds from AGT\n",
    "noise_level = privacy_utils_regression.get_calibrated_noise_level(\n",
    "    dataset_test_all.tensors[0], privacy_bounded_models, min_bound=-1, max_bound=1, epsilon=epsilon, noise_type=\"cauchy\" \n",
    ")\n",
    "print(noise_level)\n",
    "accuracy = noisy_test_mse(\n",
    "    bounded_model, *dataset_test_all.tensors, noise_level=noise_level, noise_type=\"cauchy\"\n",
    ")\n",
    "print(f\"Accuracy using AGT smooth sensitivity bounds: {accuracy:.2f}\")"
   ]
  },
  {
   "cell_type": "code",
   "execution_count": 4,
   "id": "c1f06d73",
   "metadata": {},
   "outputs": [],
   "source": [
    "# set up the AGT configuration\n",
    "batchsize = 1000000\n",
    "nominal_config = AGTConfig(\n",
    "    fragsize=2000,\n",
    "    learning_rate=1,\n",
    "    n_epochs=10,\n",
    "    device=\"cuda:0\",\n",
    "    l2_reg=0.01,\n",
    "    k_private=1,\n",
    "    loss=\"mse\",\n",
    "    log_level=\"INFO\",\n",
    "    lr_decay=2.0,\n",
    "    clip_gamma=1.0,\n",
    "    lr_min=0.001,\n",
    "    optimizer=\"SGDM\", # we'll use SGD with momentum\n",
    "    optimizer_kwargs={\"momentum\": 0.9, \"nesterov\": True},\n",
    ")"
   ]
  },
  {
   "cell_type": "code",
   "execution_count": null,
   "id": "2477f93f",
   "metadata": {},
   "outputs": [
    {
     "name": "stderr",
     "output_type": "stream",
     "text": [
      "  0%|          | 0/7 [00:00<?, ?it/s][AGT] [INFO    ] [15:22:36] =================== Starting Privacy Certified Training ===================\n",
      "[AGT] [INFO    ] [15:22:36] Starting epoch 1\n",
      "[AGT] [INFO    ] [15:22:49] Batch 1. Loss (mse): 132.487 <= 132.487 <= 132.487\n",
      "[AGT] [INFO    ] [15:24:05] Dataloader has only one batch per epoch, effective batchsize may be smaller than expected.\n",
      "[AGT] [INFO    ] [15:24:05] Starting epoch 2\n",
      "[AGT] [INFO    ] [15:24:18] Batch 2. Loss (mse): 59.846 <= 59.848 <= 59.850\n",
      "[AGT] [INFO    ] [15:25:51] Starting epoch 3\n",
      "[AGT] [INFO    ] [15:26:06] Batch 3. Loss (mse): 48.734 <= 48.740 <= 48.745\n",
      "[AGT] [INFO    ] [15:27:22] Starting epoch 4\n",
      "[AGT] [INFO    ] [15:27:34] Batch 4. Loss (mse): 47.030 <= 47.042 <= 47.054\n",
      "[AGT] [INFO    ] [15:28:48] Starting epoch 5\n",
      "[AGT] [INFO    ] [15:29:00] Batch 5. Loss (mse): 46.987 <= 47.011 <= 47.035\n",
      "[AGT] [INFO    ] [15:30:15] Starting epoch 6\n",
      "[AGT] [INFO    ] [15:30:26] Batch 6. Loss (mse): 47.294 <= 47.338 <= 47.382\n",
      "[AGT] [INFO    ] [15:31:41] Starting epoch 7\n",
      "[AGT] [INFO    ] [15:31:53] Batch 7. Loss (mse): 47.866 <= 47.945 <= 48.023\n",
      "[AGT] [INFO    ] [15:33:07] Starting epoch 8\n",
      "[AGT] [INFO    ] [15:33:19] Batch 8. Loss (mse): 48.498 <= 48.627 <= 48.757\n",
      "[AGT] [INFO    ] [15:34:35] Starting epoch 9\n",
      "[AGT] [INFO    ] [15:34:47] Batch 9. Loss (mse): 49.102 <= 49.305 <= 49.509\n",
      "[AGT] [INFO    ] [15:36:02] Starting epoch 10\n",
      "[AGT] [INFO    ] [15:36:13] Batch 10. Loss (mse): 49.611 <= 49.920 <= 50.230\n",
      "[AGT] [INFO    ] [15:37:31] Final Eval. Loss (mse): 49.966 <= 50.425 <= 50.889\n",
      "[AGT] [INFO    ] [15:37:31] =================== Finished Privacy Certified Training ===================\n",
      " 14%|█▍        | 1/7 [14:55<1:29:30, 895.09s/it][AGT] [INFO    ] [15:37:31] =================== Starting Privacy Certified Training ===================\n",
      "[AGT] [INFO    ] [15:37:31] Starting epoch 1\n",
      "[AGT] [INFO    ] [15:37:43] Batch 1. Loss (mse): 132.487 <= 132.487 <= 132.487\n",
      "[AGT] [INFO    ] [15:38:56] Dataloader has only one batch per epoch, effective batchsize may be smaller than expected.\n",
      "[AGT] [INFO    ] [15:38:56] Starting epoch 2\n",
      "[AGT] [INFO    ] [15:39:08] Batch 2. Loss (mse): 59.846 <= 59.848 <= 59.850\n",
      "[AGT] [INFO    ] [15:40:24] Starting epoch 3\n",
      "[AGT] [INFO    ] [15:40:36] Batch 3. Loss (mse): 48.734 <= 48.740 <= 48.745\n",
      "[AGT] [INFO    ] [15:41:52] Starting epoch 4\n",
      "[AGT] [INFO    ] [15:42:04] Batch 4. Loss (mse): 47.030 <= 47.042 <= 47.054\n",
      "[AGT] [INFO    ] [15:43:18] Starting epoch 5\n",
      "[AGT] [INFO    ] [15:43:30] Batch 5. Loss (mse): 46.987 <= 47.011 <= 47.035\n",
      "[AGT] [INFO    ] [15:44:44] Starting epoch 6\n",
      "[AGT] [INFO    ] [15:44:56] Batch 6. Loss (mse): 47.294 <= 47.338 <= 47.382\n",
      "[AGT] [INFO    ] [15:46:10] Starting epoch 7\n",
      "[AGT] [INFO    ] [15:46:22] Batch 7. Loss (mse): 47.866 <= 47.945 <= 48.023\n",
      "[AGT] [INFO    ] [15:47:36] Starting epoch 8\n",
      "[AGT] [INFO    ] [15:47:48] Batch 8. Loss (mse): 48.498 <= 48.627 <= 48.757\n",
      "[AGT] [INFO    ] [15:49:02] Starting epoch 9\n",
      "[AGT] [INFO    ] [15:49:13] Batch 9. Loss (mse): 49.102 <= 49.305 <= 49.509\n",
      "[AGT] [INFO    ] [15:50:28] Starting epoch 10\n",
      "[AGT] [INFO    ] [15:50:40] Batch 10. Loss (mse): 49.611 <= 49.920 <= 50.230\n",
      "[AGT] [INFO    ] [15:51:57] Final Eval. Loss (mse): 49.966 <= 50.425 <= 50.889\n",
      "[AGT] [INFO    ] [15:51:57] =================== Finished Privacy Certified Training ===================\n",
      " 29%|██▊       | 2/7 [29:20<1:13:08, 877.70s/it][AGT] [INFO    ] [15:51:57] =================== Starting Privacy Certified Training ===================\n",
      "[AGT] [INFO    ] [15:51:57] Starting epoch 1\n",
      "[AGT] [INFO    ] [15:52:09] Batch 1. Loss (mse): 132.487 <= 132.487 <= 132.487\n",
      "[AGT] [INFO    ] [15:53:24] Dataloader has only one batch per epoch, effective batchsize may be smaller than expected.\n",
      "[AGT] [INFO    ] [15:53:24] Starting epoch 2\n",
      "[AGT] [INFO    ] [15:53:36] Batch 2. Loss (mse): 59.846 <= 59.848 <= 59.850\n",
      "[AGT] [INFO    ] [15:54:50] Starting epoch 3\n",
      "[AGT] [INFO    ] [15:55:01] Batch 3. Loss (mse): 48.734 <= 48.740 <= 48.745\n",
      "[AGT] [INFO    ] [15:56:16] Starting epoch 4\n",
      "[AGT] [INFO    ] [15:56:27] Batch 4. Loss (mse): 47.030 <= 47.042 <= 47.054\n",
      "[AGT] [INFO    ] [15:57:43] Starting epoch 5\n",
      "[AGT] [INFO    ] [15:57:54] Batch 5. Loss (mse): 46.987 <= 47.011 <= 47.035\n",
      "[AGT] [INFO    ] [15:59:08] Starting epoch 6\n",
      "[AGT] [INFO    ] [15:59:20] Batch 6. Loss (mse): 47.294 <= 47.338 <= 47.382\n",
      "[AGT] [INFO    ] [16:00:34] Starting epoch 7\n",
      "[AGT] [INFO    ] [16:00:45] Batch 7. Loss (mse): 47.866 <= 47.945 <= 48.023\n",
      "[AGT] [INFO    ] [16:01:58] Starting epoch 8\n",
      "[AGT] [INFO    ] [16:02:10] Batch 8. Loss (mse): 48.498 <= 48.627 <= 48.757\n",
      "[AGT] [INFO    ] [16:03:23] Starting epoch 9\n",
      "[AGT] [INFO    ] [16:03:35] Batch 9. Loss (mse): 49.102 <= 49.305 <= 49.509\n",
      "[AGT] [INFO    ] [16:04:48] Starting epoch 10\n",
      "[AGT] [INFO    ] [16:05:00] Batch 10. Loss (mse): 49.611 <= 49.920 <= 50.230\n",
      "[AGT] [INFO    ] [16:06:16] Final Eval. Loss (mse): 49.966 <= 50.425 <= 50.889\n",
      "[AGT] [INFO    ] [16:06:16] =================== Finished Privacy Certified Training ===================\n",
      " 43%|████▎     | 3/7 [43:40<57:57, 869.49s/it]  [AGT] [INFO    ] [16:06:16] =================== Starting Privacy Certified Training ===================\n",
      "[AGT] [INFO    ] [16:06:16] Starting epoch 1\n",
      "[AGT] [INFO    ] [16:06:29] Batch 1. Loss (mse): 132.487 <= 132.487 <= 132.487\n",
      "[AGT] [INFO    ] [16:07:42] Dataloader has only one batch per epoch, effective batchsize may be smaller than expected.\n",
      "[AGT] [INFO    ] [16:07:42] Starting epoch 2\n",
      "[AGT] [INFO    ] [16:07:53] Batch 2. Loss (mse): 59.846 <= 59.848 <= 59.850\n",
      "[AGT] [INFO    ] [16:09:07] Starting epoch 3\n",
      "[AGT] [INFO    ] [16:09:18] Batch 3. Loss (mse): 48.734 <= 48.740 <= 48.745\n",
      "[AGT] [INFO    ] [16:10:33] Starting epoch 4\n",
      "[AGT] [INFO    ] [16:10:45] Batch 4. Loss (mse): 47.030 <= 47.042 <= 47.054\n",
      "[AGT] [INFO    ] [16:11:57] Starting epoch 5\n",
      "[AGT] [INFO    ] [16:12:09] Batch 5. Loss (mse): 46.987 <= 47.011 <= 47.035\n",
      "[AGT] [INFO    ] [16:13:22] Starting epoch 6\n",
      "[AGT] [INFO    ] [16:13:33] Batch 6. Loss (mse): 47.294 <= 47.338 <= 47.382\n",
      "[AGT] [INFO    ] [16:14:46] Starting epoch 7\n",
      "[AGT] [INFO    ] [16:14:58] Batch 7. Loss (mse): 47.866 <= 47.945 <= 48.023\n",
      "[AGT] [INFO    ] [16:16:12] Starting epoch 8\n",
      "[AGT] [INFO    ] [16:16:24] Batch 8. Loss (mse): 48.498 <= 48.627 <= 48.757\n",
      "[AGT] [INFO    ] [16:17:36] Starting epoch 9\n",
      "[AGT] [INFO    ] [16:17:48] Batch 9. Loss (mse): 49.102 <= 49.305 <= 49.509\n",
      "[AGT] [INFO    ] [16:19:02] Starting epoch 10\n",
      "[AGT] [INFO    ] [16:19:13] Batch 10. Loss (mse): 49.611 <= 49.920 <= 50.230\n",
      "[AGT] [INFO    ] [16:20:30] Final Eval. Loss (mse): 49.966 <= 50.425 <= 50.889\n",
      "[AGT] [INFO    ] [16:20:30] =================== Finished Privacy Certified Training ===================\n",
      " 57%|█████▋    | 4/7 [57:53<43:09, 863.14s/it][AGT] [INFO    ] [16:20:30] =================== Starting Privacy Certified Training ===================\n",
      "[AGT] [INFO    ] [16:20:30] Starting epoch 1\n",
      "[AGT] [INFO    ] [16:20:42] Batch 1. Loss (mse): 132.487 <= 132.487 <= 132.487\n",
      "[AGT] [INFO    ] [16:21:57] Dataloader has only one batch per epoch, effective batchsize may be smaller than expected.\n",
      "[AGT] [INFO    ] [16:21:57] Starting epoch 2\n",
      "[AGT] [INFO    ] [16:22:09] Batch 2. Loss (mse): 59.846 <= 59.848 <= 59.850\n",
      "[AGT] [INFO    ] [16:23:24] Starting epoch 3\n",
      "[AGT] [INFO    ] [16:23:36] Batch 3. Loss (mse): 48.734 <= 48.740 <= 48.745\n",
      "[AGT] [INFO    ] [16:24:49] Starting epoch 4\n",
      "[AGT] [INFO    ] [16:25:01] Batch 4. Loss (mse): 47.030 <= 47.042 <= 47.054\n",
      "[AGT] [INFO    ] [16:26:15] Starting epoch 5\n",
      "[AGT] [INFO    ] [16:26:27] Batch 5. Loss (mse): 46.987 <= 47.011 <= 47.035\n",
      "[AGT] [INFO    ] [16:27:56] Starting epoch 6\n",
      "[AGT] [INFO    ] [16:28:08] Batch 6. Loss (mse): 47.294 <= 47.338 <= 47.382\n",
      "[AGT] [INFO    ] [16:29:53] Starting epoch 7\n",
      "[AGT] [INFO    ] [16:30:05] Batch 7. Loss (mse): 47.866 <= 47.945 <= 48.023\n",
      "[AGT] [INFO    ] [16:31:54] Starting epoch 8\n",
      "[AGT] [INFO    ] [16:32:06] Batch 8. Loss (mse): 48.498 <= 48.627 <= 48.757\n",
      "[AGT] [INFO    ] [16:33:43] Starting epoch 9\n",
      "[AGT] [INFO    ] [16:33:55] Batch 9. Loss (mse): 49.102 <= 49.305 <= 49.509\n",
      "[AGT] [INFO    ] [16:35:12] Starting epoch 10\n",
      "[AGT] [INFO    ] [16:35:23] Batch 10. Loss (mse): 49.611 <= 49.920 <= 50.230\n",
      "[AGT] [INFO    ] [16:36:41] Final Eval. Loss (mse): 49.966 <= 50.425 <= 50.889\n",
      "[AGT] [INFO    ] [16:36:41] =================== Finished Privacy Certified Training ===================\n",
      " 71%|███████▏  | 5/7 [1:14:04<30:03, 901.96s/it][AGT] [INFO    ] [16:36:41] =================== Starting Privacy Certified Training ===================\n",
      "[AGT] [INFO    ] [16:36:41] Starting epoch 1\n",
      "[AGT] [INFO    ] [16:36:53] Batch 1. Loss (mse): 132.487 <= 132.487 <= 132.487\n",
      "[AGT] [INFO    ] [16:38:27] Dataloader has only one batch per epoch, effective batchsize may be smaller than expected.\n",
      "[AGT] [INFO    ] [16:38:27] Starting epoch 2\n",
      "[AGT] [INFO    ] [16:38:39] Batch 2. Loss (mse): 59.846 <= 59.848 <= 59.850\n",
      "[AGT] [INFO    ] [16:40:12] Starting epoch 3\n",
      "[AGT] [INFO    ] [16:40:24] Batch 3. Loss (mse): 48.734 <= 48.740 <= 48.745\n",
      "[AGT] [INFO    ] [16:41:38] Starting epoch 4\n",
      "[AGT] [INFO    ] [16:41:50] Batch 4. Loss (mse): 47.030 <= 47.042 <= 47.054\n",
      "[AGT] [INFO    ] [16:43:23] Starting epoch 5\n",
      "[AGT] [INFO    ] [16:43:34] Batch 5. Loss (mse): 46.987 <= 47.011 <= 47.035\n",
      "[AGT] [INFO    ] [16:44:50] Starting epoch 6\n",
      "[AGT] [INFO    ] [16:45:02] Batch 6. Loss (mse): 47.294 <= 47.338 <= 47.382\n",
      "[AGT] [INFO    ] [16:46:37] Starting epoch 7\n",
      "[AGT] [INFO    ] [16:46:49] Batch 7. Loss (mse): 47.866 <= 47.945 <= 48.023\n",
      "[AGT] [INFO    ] [16:48:05] Starting epoch 8\n",
      "[AGT] [INFO    ] [16:48:17] Batch 8. Loss (mse): 48.498 <= 48.627 <= 48.757\n",
      "[AGT] [INFO    ] [16:49:30] Starting epoch 9\n",
      "[AGT] [INFO    ] [16:49:42] Batch 9. Loss (mse): 49.102 <= 49.305 <= 49.509\n",
      "[AGT] [INFO    ] [16:51:17] Starting epoch 10\n",
      "[AGT] [INFO    ] [16:51:29] Batch 10. Loss (mse): 49.611 <= 49.920 <= 50.230\n",
      "[AGT] [INFO    ] [16:52:47] Final Eval. Loss (mse): 49.966 <= 50.425 <= 50.889\n",
      "[AGT] [INFO    ] [16:52:47] =================== Finished Privacy Certified Training ===================\n",
      " 86%|████████▌ | 6/7 [1:30:10<15:23, 923.89s/it][AGT] [INFO    ] [16:52:47] =================== Starting Privacy Certified Training ===================\n",
      "[AGT] [INFO    ] [16:52:47] Starting epoch 1\n",
      "[AGT] [INFO    ] [16:52:59] Batch 1. Loss (mse): 132.487 <= 132.487 <= 132.487\n",
      "[AGT] [INFO    ] [16:54:36] Dataloader has only one batch per epoch, effective batchsize may be smaller than expected.\n",
      "[AGT] [INFO    ] [16:54:36] Starting epoch 2\n",
      "[AGT] [INFO    ] [16:54:48] Batch 2. Loss (mse): 59.846 <= 59.848 <= 59.850\n",
      "[AGT] [INFO    ] [16:56:08] Starting epoch 3\n",
      "[AGT] [INFO    ] [16:56:20] Batch 3. Loss (mse): 48.734 <= 48.740 <= 48.745\n",
      "[AGT] [INFO    ] [16:57:47] Starting epoch 4\n",
      "[AGT] [INFO    ] [16:57:59] Batch 4. Loss (mse): 47.030 <= 47.042 <= 47.054\n",
      "[AGT] [INFO    ] [16:59:15] Starting epoch 5\n",
      "[AGT] [INFO    ] [16:59:27] Batch 5. Loss (mse): 46.987 <= 47.011 <= 47.035\n",
      "[AGT] [INFO    ] [17:00:56] Starting epoch 6\n",
      "[AGT] [INFO    ] [17:01:08] Batch 6. Loss (mse): 47.294 <= 47.338 <= 47.382\n",
      "[AGT] [INFO    ] [17:02:26] Starting epoch 7\n",
      "[AGT] [INFO    ] [17:02:37] Batch 7. Loss (mse): 47.866 <= 47.945 <= 48.023\n",
      "[AGT] [INFO    ] [17:04:04] Starting epoch 8\n",
      "[AGT] [INFO    ] [17:04:15] Batch 8. Loss (mse): 48.498 <= 48.627 <= 48.757\n",
      "[AGT] [INFO    ] [17:05:36] Starting epoch 9\n",
      "[AGT] [INFO    ] [17:05:49] Batch 9. Loss (mse): 49.102 <= 49.305 <= 49.509\n",
      "[AGT] [INFO    ] [17:07:05] Starting epoch 10\n",
      "[AGT] [INFO    ] [17:07:17] Batch 10. Loss (mse): 49.611 <= 49.920 <= 50.230\n",
      "[AGT] [INFO    ] [17:08:35] Final Eval. Loss (mse): 49.966 <= 50.425 <= 50.889\n",
      "[AGT] [INFO    ] [17:08:35] =================== Finished Privacy Certified Training ===================\n",
      "100%|██████████| 7/7 [1:45:59<00:00, 908.45s/it]\n"
     ]
    }
   ],
   "source": [
    "# to use privacy-safe certificates, we need to run AGT for a range of k_private values\n",
    "\n",
    "# we'll just pick a reasonable range of k_private values. adding more values will increase the runtime\n",
    "# but also result in tighter privacy results. even a few values are sufficient to demonstrate tighter privacy\n",
    "\n",
    "k_private_values = [1, 2, 5, 10, 20, 50, 100] \n",
    "privacy_bounded_models = {}\n",
    "config = copy.deepcopy(nominal_config)\n",
    "config.log_level = \"WARNING\"\n",
    "\n",
    "for k_private in tqdm.tqdm(k_private_values):\n",
    "    # update config\n",
    "    config.k_private = k_private\n",
    "    # form bounded model\n",
    "    torch.manual_seed(1)\n",
    "    model = torch.nn.Sequential(\n",
    "        torch.nn.Linear(1, 32),\n",
    "        torch.nn.ReLU(),\n",
    "        torch.nn.Linear(32, 1),\n",
    "    )\n",
    "    bounded_model = IntervalBoundedModel(model, trainable=True)\n",
    "    dl_train = torch.utils.data.DataLoader(dataset_train, batch_size=batchsize, shuffle=True)\n",
    "    # run AGT\n",
    "    agt.privacy_certified_training(bounded_model, nominal_config, dl_train, dl_test)\n",
    "    privacy_bounded_models[k_private] = bounded_model"
   ]
  },
  {
   "cell_type": "code",
   "execution_count": null,
   "id": "ddee2e18",
   "metadata": {},
   "outputs": [
    {
     "ename": "KeyError",
     "evalue": "1",
     "output_type": "error",
     "traceback": [
      "\u001b[0;31m---------------------------------------------------------------------------\u001b[0m",
      "\u001b[0;31mKeyError\u001b[0m                                  Traceback (most recent call last)",
      "Cell \u001b[0;32mIn[8], line 4\u001b[0m\n\u001b[1;32m      2\u001b[0m privacy_bounded_models \u001b[38;5;241m=\u001b[39m {}\n\u001b[1;32m      3\u001b[0m \u001b[38;5;28;01mfor\u001b[39;00m k \u001b[38;5;129;01min\u001b[39;00m k_private_values:\n\u001b[0;32m----> 4\u001b[0m     \u001b[43mprivacy_bounded_models\u001b[49m\u001b[43m[\u001b[49m\u001b[43mk\u001b[49m\u001b[43m]\u001b[49m\u001b[38;5;241m.\u001b[39msave_params(\u001b[38;5;124mf\u001b[39m\u001b[38;5;124m\"\u001b[39m\u001b[38;5;124mcubic_k\u001b[39m\u001b[38;5;132;01m{\u001b[39;00mk\u001b[38;5;132;01m}\u001b[39;00m\u001b[38;5;124m.model\u001b[39m\u001b[38;5;124m\"\u001b[39m)\n",
      "\u001b[0;31mKeyError\u001b[0m: 1"
     ]
    }
   ],
   "source": [
    "for k in k_private_values:\n",
    "    privacy_bounded_models[k].save_params(f\"cubic_k{k}.model\")"
   ]
  },
  {
   "cell_type": "code",
   "execution_count": 6,
   "id": "e10a6b4e",
   "metadata": {},
   "outputs": [
    {
     "name": "stdout",
     "output_type": "stream",
     "text": [
      "Fine-tuned model accuracy + certified bounds (all classes): 51.27 <= 50.81 <= 50.34\n"
     ]
    }
   ],
   "source": [
    "privacy_bounded_models = {}\n",
    "k_private_values = [1, 2, 5, 10, 20, 50, 100] \n",
    "for k in k_private_values:\n",
    "    model = torch.nn.Sequential(\n",
    "        torch.nn.Linear(1, 32),\n",
    "        torch.nn.ReLU(),\n",
    "        torch.nn.Linear(32, 1),\n",
    "    )\n",
    "    bounded_model = IntervalBoundedModel(model, trainable=True)\n",
    "    bounded_model.load_params(f\"cubic_models/cubic_k{k}.model\")\n",
    "    privacy_bounded_models[k] = bounded_model\n",
    "# evaluate the fine-tuned model\n",
    "_, dataset_test_all = get_datasets()\n",
    "accuracy = agt.test_metrics.test_mse(bounded_model, *dataset_test_all.tensors)\n",
    "print(f\"Fine-tuned model accuracy + certified bounds (all classes): {accuracy[0]:.2f} <= {accuracy[1]:.2f} <= {accuracy[2]:.2f}\")"
   ]
  },
  {
   "cell_type": "code",
   "execution_count": 7,
   "id": "ae8b65de",
   "metadata": {},
   "outputs": [
    {
     "name": "stdout",
     "output_type": "stream",
     "text": [
      "0.1968840110718544\n",
      "Accuracy using AGT smooth sensitivity bounds: 39376.80\n"
     ]
    },
    {
     "ename": "KeyboardInterrupt",
     "evalue": "",
     "output_type": "error",
     "traceback": [
      "\u001b[0;31m---------------------------------------------------------------------------\u001b[0m",
      "\u001b[0;31mKeyboardInterrupt\u001b[0m                         Traceback (most recent call last)",
      "Cell \u001b[0;32mIn[7], line 20\u001b[0m\n\u001b[1;32m     18\u001b[0m num \u001b[38;5;241m=\u001b[39m \u001b[38;5;241m10000\u001b[39m\n\u001b[1;32m     19\u001b[0m \u001b[38;5;28;01mfor\u001b[39;00m i \u001b[38;5;129;01min\u001b[39;00m \u001b[38;5;28mrange\u001b[39m(num):\n\u001b[0;32m---> 20\u001b[0m     ave \u001b[38;5;241m+\u001b[39m\u001b[38;5;241m=\u001b[39m \u001b[43mnoisy_test_mse\u001b[49m\u001b[43m(\u001b[49m\n\u001b[1;32m     21\u001b[0m \u001b[43m        \u001b[49m\u001b[43mbounded_model\u001b[49m\u001b[43m,\u001b[49m\u001b[43m \u001b[49m\u001b[38;5;241;43m*\u001b[39;49m\u001b[43mdataset_test_all\u001b[49m\u001b[38;5;241;43m.\u001b[39;49m\u001b[43mtensors\u001b[49m\u001b[43m,\u001b[49m\u001b[43m \u001b[49m\u001b[43mnoise_level\u001b[49m\u001b[38;5;241;43m=\u001b[39;49m\u001b[43mnoise_level\u001b[49m\u001b[43m,\u001b[49m\u001b[43m \u001b[49m\u001b[43mnoise_type\u001b[49m\u001b[38;5;241;43m=\u001b[39;49m\u001b[38;5;124;43m\"\u001b[39;49m\u001b[38;5;124;43mcauchy\u001b[39;49m\u001b[38;5;124;43m\"\u001b[39;49m\n\u001b[1;32m     22\u001b[0m \u001b[43m    \u001b[49m\u001b[43m)\u001b[49m\n\u001b[1;32m     23\u001b[0m \u001b[38;5;28mprint\u001b[39m(\u001b[38;5;124mf\u001b[39m\u001b[38;5;124m\"\u001b[39m\u001b[38;5;124mAverage MSE is \u001b[39m\u001b[38;5;132;01m{\u001b[39;00mave\u001b[38;5;250m \u001b[39m\u001b[38;5;241m/\u001b[39m\u001b[38;5;250m \u001b[39m(num\u001b[38;5;250m \u001b[39m\u001b[38;5;241m*\u001b[39m\u001b[38;5;250m \u001b[39m\u001b[38;5;28mlen\u001b[39m(dataset_test_all))\u001b[38;5;132;01m}\u001b[39;00m\u001b[38;5;124m\"\u001b[39m)\n",
      "Cell \u001b[0;32mIn[5], line 62\u001b[0m, in \u001b[0;36mnoisy_test_mse\u001b[0;34m(model, batch, labels, noise_level, noise_type)\u001b[0m\n\u001b[1;32m     50\u001b[0m     noise_distribution \u001b[38;5;241m=\u001b[39m torch\u001b[38;5;241m.\u001b[39mdistributions\u001b[38;5;241m.\u001b[39mCauchy(\u001b[38;5;241m0\u001b[39m, noise_level)\n\u001b[1;32m     52\u001b[0m \u001b[38;5;66;03m# # nominal, lower and upper bounds for the forward pass\u001b[39;00m\n\u001b[1;32m     53\u001b[0m \u001b[38;5;66;03m# logit_n = model.forward(batch).squeeze()\u001b[39;00m\n\u001b[1;32m     54\u001b[0m \n\u001b[0;32m   (...)\u001b[0m\n\u001b[1;32m     60\u001b[0m \n\u001b[1;32m     61\u001b[0m \u001b[38;5;66;03m# nominal, lower and upper bounds for the forward pass\u001b[39;00m\n\u001b[0;32m---> 62\u001b[0m y_n \u001b[38;5;241m=\u001b[39m \u001b[43mmodel\u001b[49m\u001b[38;5;241;43m.\u001b[39;49m\u001b[43mforward\u001b[49m\u001b[43m(\u001b[49m\u001b[43mbatch\u001b[49m\u001b[43m)\u001b[49m\u001b[38;5;241m.\u001b[39msqueeze()\n\u001b[1;32m     64\u001b[0m \u001b[38;5;66;03m# transform 2-logit models to a single output\u001b[39;00m\n\u001b[1;32m     65\u001b[0m \u001b[38;5;28;01mif\u001b[39;00m y_n\u001b[38;5;241m.\u001b[39mshape[\u001b[38;5;241m-\u001b[39m\u001b[38;5;241m1\u001b[39m] \u001b[38;5;241m==\u001b[39m \u001b[38;5;241m2\u001b[39m:\n",
      "\u001b[0;31mKeyboardInterrupt\u001b[0m: "
     ]
    }
   ],
   "source": [
    "import importlib\n",
    "import privacy_utils_regression\n",
    "importlib.reload(privacy_utils_regression)\n",
    "\n",
    "epsilon = 1.0\n",
    "# make privacy-safe predictions using the smooth sensitivity bounds from AGT\n",
    "noise_level = privacy_utils_regression.get_calibrated_noise_level(\n",
    "    dataset_test_all.tensors[0], privacy_bounded_models, min_bound=-27, max_bound=27, epsilon=epsilon, noise_type=\"cauchy\" \n",
    ")\n",
    "\n",
    "accuracy = noisy_test_mse(\n",
    "    bounded_model, *dataset_test_all.tensors, noise_level=noise_level, noise_type=\"cauchy\"\n",
    ")\n",
    "print(accuracy / len(dataset_test_all))\n",
    "print(f\"Accuracy using AGT smooth sensitivity bounds: {accuracy:.2f}\")\n",
    "\n",
    "ave = 0\n",
    "num = 10000\n",
    "for i in range(num):\n",
    "    ave += noisy_test_mse(\n",
    "        bounded_model, *dataset_test_all.tensors, noise_level=noise_level, noise_type=\"cauchy\"\n",
    "    )\n",
    "print(f\"Average MSE is {ave / (num * len(dataset_test_all))}\")"
   ]
  },
  {
   "cell_type": "code",
   "execution_count": 11,
   "id": "d12f775e",
   "metadata": {},
   "outputs": [
    {
     "name": "stdout",
     "output_type": "stream",
     "text": [
      "Average MSE global sensitivity is 1970750.880673056\n"
     ]
    }
   ],
   "source": [
    "ave = 0\n",
    "num = 10000\n",
    "for i in range(num):\n",
    "    ave += noisy_test_mse(\n",
    "        bounded_model, *dataset_test_all.tensors, noise_level=6 * 54, noise_type=\"cauchy\"\n",
    "    )\n",
    "print(f\"Average MSE global sensitivity is {ave / (num * len(dataset_test_all))}\")"
   ]
  },
  {
   "cell_type": "code",
   "execution_count": null,
   "id": "883a25a7",
   "metadata": {},
   "outputs": [
    {
     "data": {
      "image/png": "[encoded data removed]",
      "text/plain": [
       "<Figure size 1000x600 with 1 Axes>"
      ]
     },
     "metadata": {},
     "output_type": "display_data"
    }
   ],
   "source": [
    "import numpy as np\n",
    "import matplotlib.pyplot as plt\n",
    "\n",
    "# Define the specific epsilon values\n",
    "epsilon_values = [0.001, 0.01, 0.05, 0.1, 0.25, 0.5, 0.75, 1, 2.5, 5, 7.5, 10, 25, 50, 75, 100, 250, 500, 750, 10000, 100000000]\n",
    "\n",
    "# Store results for both normal MSE and global sensitivity-based MSE\n",
    "normal_mse_values = []\n",
    "global_sensitivity_mse_values = []\n",
    "no_privacy_mse_values = []\n",
    "\n",
    "# Loop over epsilon values and calculate the MSE for each\n",
    "for epsilon in epsilon_values:\n",
    "    # Calculate the noise level using AGT smooth sensitivity bounds\n",
    "    noise_level = privacy_utils_regression.get_calibrated_noise_level(\n",
    "        dataset_test_all.tensors[0], privacy_bounded_models, min_bound=-27, max_bound=27, epsilon=epsilon, noise_type=\"cauchy\"\n",
    "    )\n",
    "    \n",
    "    ave = 0\n",
    "    num = 1000\n",
    "    for i in range(num):\n",
    "        ave += noisy_test_mse(\n",
    "            bounded_model, *dataset_test_all.tensors, noise_level=noise_level, noise_type=\"cauchy\"\n",
    "        )\n",
    "    normal_mse = ave / (num * len(dataset_test_all))\n",
    "    # print(f\"Average MSE is {ave / (num * len(dataset_test_all))}\")\n",
    "    \n",
    "    # Store normal MSE\n",
    "    normal_mse_values.append(normal_mse)\n",
    "    \n",
    "\n",
    "    ave = 0\n",
    "    num = 1000\n",
    "    for i in range(num):\n",
    "        ave += noisy_test_mse(\n",
    "            bounded_model, *dataset_test_all.tensors, noise_level=6 * 54/epsilon, noise_type=\"cauchy\"\n",
    "        )\n",
    "    \n",
    "    global_mse = ave / (num * len(dataset_test_all))\n",
    "    # Store global sensitivity MSE\n",
    "    global_sensitivity_mse_values.append(global_mse)\n",
    "\n",
    "    no_privacy_mse = noisy_test_mse(\n",
    "            bounded_model, *dataset_test_all.tensors, noise_level=0, noise_type=\"none\"\n",
    "        ) / len(dataset_test_all)\n",
    "    # Store global sensitivity MSE\n",
    "    no_privacy_mse_values.append(no_privacy_mse)\n",
    "\n",
    "# Create the plot\n",
    "plt.figure(figsize=(10, 6))\n",
    "\n",
    "# Plot both MSE curves\n",
    "plt.plot(epsilon_values, normal_mse_values, label=\"Normal MSE (AGT Sensitivity)\", color=\"blue\", marker='o')\n",
    "plt.plot(epsilon_values, global_sensitivity_mse_values, label=\"Global Sensitivity MSE\", color=\"red\", linestyle=\"--\", marker='x')\n",
    "plt.plot(epsilon_values, no_privacy_mse_values, label=\"No Privacy MSE\", color=\"green\")\n",
    "\n",
    "# Set x-axis to logarithmic scale\n",
    "plt.xscale('log')\n",
    "\n",
    "# Set y-axis to logarithmic scale\n",
    "plt.yscale('log')\n",
    "\n",
    "# Add labels and title\n",
    "plt.xlabel('Epsilon (Log Scale)')\n",
    "plt.ylabel('MSE')\n",
    "plt.title('MSE vs Epsilon (Normal vs Global Sensitivity)')\n",
    "plt.legend()\n",
    "\n",
    "# Show the plot\n",
    "plt.grid(True, which=\"both\", ls=\"--\")  # Add grid for both major and minor ticks\n",
    "plt.show()\n"
   ]
  }
 ],
 "metadata": {
  "kernelspec": {
   "display_name": ".venv",
   "language": "python",
   "name": "python3"
  },
  "language_info": {
   "codemirror_mode": {
    "name": "ipython",
    "version": 3
   },
   "file_extension": ".py",
   "mimetype": "text/x-python",
   "name": "python",
   "nbconvert_exporter": "python",
   "pygments_lexer": "ipython3",
   "version": "3.10.12"
  }
 },
 "nbformat": 4,
 "nbformat_minor": 5
}
