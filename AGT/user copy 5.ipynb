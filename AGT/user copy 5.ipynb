{
 "cells": [
  {
   "cell_type": "code",
   "execution_count": 2,
   "id": "5dabb954",
   "metadata": {},
   "outputs": [],
   "source": [
    "%load_ext autoreload\n",
    "%autoreload 2\n",
    "import torch\n",
    "import torch.utils.data\n",
    "import numpy as np\n",
    "import sklearn.datasets\n",
    "import sklearn.model_selection\n",
    "import matplotlib.pyplot as plt\n",
    "\n",
    "import abstract_gradient_training as agt"
   ]
  },
  {
   "cell_type": "code",
   "execution_count": null,
   "id": "013b54a3",
   "metadata": {},
   "outputs": [
    {
     "name": "stdout",
     "output_type": "stream",
     "text": [
      "[1 0 0 ... 0 1 0]\n"
     ]
    }
   ],
   "source": [
    "\"\"\"Initialise the halfmoons training data.\"\"\"\n",
    "seed = 0\n",
    "batchsize = 5000  # number of samples per batch\n",
    "test_size = 5000\n",
    "n_users = 500\n",
    "# batchsize = 3  # number of samples per batch\n",
    "# test_size = 1\n",
    "# n_users = 1\n",
    "n_batches = 1  # number of batches per epoch\n",
    "n_epochs = 10  # number of epochs\n",
    "\n",
    "torch.manual_seed(seed)\n",
    "# load the dataset\n",
    "x, y = sklearn.datasets.make_moons(noise=0.1, n_samples=n_batches*batchsize + test_size, random_state=seed)\n",
    "# to make it easier to train, we'll space the moons out a bit and add some polynomial features\n",
    "x[y==0, 1] += 0.2\n",
    "x = np.hstack((x, x**2, (x[:, 0] * x[:, 1])[:, None], x**3))\n",
    "\n",
    "\n",
    "# Train-test split\n",
    "x_train, x_test, y_train, y_test = sklearn.model_selection.train_test_split(\n",
    "    x, y, test_size=test_size / (n_batches * batchsize + test_size), random_state=seed\n",
    ")\n",
    "\n",
    "\n",
    "# Assign users randomly to each set after the split\n",
    "user_train = np.random.randint(1, n_users + 1, size=len(x_train))\n",
    "user_test = np.random.randint(1, n_users + 1, size=len(x_test))\n",
    "\n",
    "# Convert to PyTorch tensors\n",
    "x_train = torch.from_numpy(x_train).float()\n",
    "x_test = torch.from_numpy(x_test).float()\n",
    "y_train = torch.from_numpy(y_train)\n",
    "y_test = torch.from_numpy(y_test)\n",
    "user_train = torch.from_numpy(user_train)\n",
    "user_test = torch.from_numpy(user_test)\n",
    "\n",
    "# Combine inputs and both labels into TensorDatasets\n",
    "dataset_train = torch.utils.data.TensorDataset(x_train, user_train, y_train)\n",
    "dataset_test = torch.utils.data.TensorDataset(x_test, user_test, y_test)\n",
    "\n",
    "print(y)\n",
    "\n",
    "# Create DataLoaders\n",
    "dataloader_train = torch.utils.data.DataLoader(dataset_train, batch_size=batchsize, shuffle=True)\n",
    "dataloader_test = torch.utils.data.DataLoader(dataset_test, batch_size=batchsize, shuffle=False)\n",
    "\n"
   ]
  },
  {
   "cell_type": "code",
   "execution_count": null,
   "id": "2e42f0d8",
   "metadata": {},
   "outputs": [
    {
     "name": "stderr",
     "output_type": "stream",
     "text": [
      "[AGT] [INFO    ] [17:47:02] =================== Starting Privacy Certified Training ===================\n",
      "[AGT] [INFO    ] [17:47:02] Starting epoch 1\n"
     ]
    },
    {
     "name": "stdout",
     "output_type": "stream",
     "text": [
      "here1\n",
      "here2\n"
     ]
    },
    {
     "name": "stderr",
     "output_type": "stream",
     "text": [
      "[AGT] [INFO    ] [17:47:57] Dataloader has only one batch per epoch, effective batchsize may be smaller than expected.\n",
      "[AGT] [INFO    ] [17:47:57] Starting epoch 2\n"
     ]
    },
    {
     "name": "stdout",
     "output_type": "stream",
     "text": [
      "here3\n",
      "here4\n",
      "here1\n",
      "here2\n"
     ]
    },
    {
     "name": "stderr",
     "output_type": "stream",
     "text": [
      "[AGT] [INFO    ] [17:48:50] Starting epoch 3\n"
     ]
    },
    {
     "name": "stdout",
     "output_type": "stream",
     "text": [
      "here3\n",
      "here4\n",
      "here1\n",
      "here2\n"
     ]
    },
    {
     "name": "stderr",
     "output_type": "stream",
     "text": [
      "[AGT] [INFO    ] [17:49:44] Starting epoch 4\n"
     ]
    },
    {
     "name": "stdout",
     "output_type": "stream",
     "text": [
      "here3\n",
      "here4\n",
      "here1\n",
      "here2\n"
     ]
    },
    {
     "name": "stderr",
     "output_type": "stream",
     "text": [
      "[AGT] [INFO    ] [17:50:38] Starting epoch 5\n"
     ]
    },
    {
     "name": "stdout",
     "output_type": "stream",
     "text": [
      "here3\n",
      "here4\n",
      "here1\n",
      "here2\n"
     ]
    },
    {
     "name": "stderr",
     "output_type": "stream",
     "text": [
      "[AGT] [INFO    ] [17:51:32] Starting epoch 6\n"
     ]
    },
    {
     "name": "stdout",
     "output_type": "stream",
     "text": [
      "here3\n",
      "here4\n",
      "here1\n",
      "here2\n"
     ]
    },
    {
     "name": "stderr",
     "output_type": "stream",
     "text": [
      "[AGT] [INFO    ] [17:52:25] Starting epoch 7\n"
     ]
    },
    {
     "name": "stdout",
     "output_type": "stream",
     "text": [
      "here3\n",
      "here4\n",
      "here1\n",
      "here2\n"
     ]
    },
    {
     "name": "stderr",
     "output_type": "stream",
     "text": [
      "[AGT] [INFO    ] [17:53:19] Starting epoch 8\n"
     ]
    },
    {
     "name": "stdout",
     "output_type": "stream",
     "text": [
      "here3\n",
      "here4\n",
      "here1\n",
      "here2\n"
     ]
    },
    {
     "name": "stderr",
     "output_type": "stream",
     "text": [
      "[AGT] [INFO    ] [17:54:12] Starting epoch 9\n"
     ]
    },
    {
     "name": "stdout",
     "output_type": "stream",
     "text": [
      "here3\n",
      "here4\n",
      "here1\n",
      "here2\n"
     ]
    },
    {
     "name": "stderr",
     "output_type": "stream",
     "text": [
      "[AGT] [INFO    ] [17:55:06] Starting epoch 10\n"
     ]
    },
    {
     "name": "stdout",
     "output_type": "stream",
     "text": [
      "here3\n",
      "here4\n",
      "here1\n",
      "here2\n"
     ]
    },
    {
     "name": "stderr",
     "output_type": "stream",
     "text": [
      "[AGT] [INFO    ] [17:55:59] =================== Finished Privacy Certified Training ===================\n"
     ]
    },
    {
     "name": "stdout",
     "output_type": "stream",
     "text": [
      "here3\n",
      "here4\n",
      "Certified Predictions at k=1: 0.94\n"
     ]
    }
   ],
   "source": [
    "import importlib\n",
    "importlib.reload(agt)\n",
    "\"\"\"Let's train a logistic classifier on the halfmoons example above.\"\"\"\n",
    "# model = torch.nn.Sequential(torch.nn.Linear(7, 2))\n",
    "torch.manual_seed(1)\n",
    "model = torch.nn.Sequential(\n",
    "    torch.nn.Linear(7, 128),\n",
    "    torch.nn.ReLU(),\n",
    "    torch.nn.Linear(128, 2),\n",
    ")\n",
    "config = agt.AGTConfig(\n",
    "    fragsize=2000,\n",
    "    learning_rate=0.5,\n",
    "    n_epochs=10,\n",
    "    device=\"cuda:0\",\n",
    "    l2_reg=0.01,\n",
    "    k_private=1,\n",
    "    loss=\"cross_entropy\",\n",
    "    log_level=\"INFO\",\n",
    "    lr_decay=2.0,\n",
    "    clip_gamma=1.0,\n",
    "    lr_min=0.001,\n",
    "    optimizer=\"SGDM\", # we'll use SGD with momentum\n",
    "    optimizer_kwargs={\"momentum\": 0.9, \"nesterov\": True},\n",
    ")\n",
    "k_values = [1,2,5,10,20,50,100]   # using more values here will improve the guarantees AGT will give\n",
    "bounded_model_dict = {}  # we'll store our results for each value of 'k' as a dictionary from 'k' to the bounded model\n",
    "\n",
    "for k_private in k_values:\n",
    "    config.k_private=k_private\n",
    "    torch.manual_seed(seed)\n",
    "    bounded_model = agt.bounded_models.IntervalBoundedModel(model)\n",
    "    bounded_model = agt.privacy_certified_training_user_level(bounded_model, config, dataloader_train)\n",
    "    bounded_model_dict[k_private] = bounded_model\n",
    "    \n",
    "    # as a metric, compute the number of predictions in the test set certified at this value of k_private\n",
    "    certified_preds = agt.test_metrics.certified_predictions(bounded_model, x_test)\n",
    "    print(f\"Certified Predictions at k={k_private}: {certified_preds:.2f}\")"
   ]
  },
  {
   "cell_type": "code",
   "execution_count": 6,
   "id": "87a2ea68",
   "metadata": {},
   "outputs": [
    {
     "name": "stdout",
     "output_type": "stream",
     "text": [
      "Noise Free Accuracy: 0.81\n",
      "Smooth Sensitivity Accuracy: 0.50\n",
      "Global Sensitivity Accuracy: 0.52\n"
     ]
    }
   ],
   "source": [
    "\"\"\"Let's use this set of bounded models to for better private prediction using the smooth sensitivity mechanism.\"\"\"\n",
    "\n",
    "epsilon = 0.2  # privacy loss\n",
    "noise_free_acc = agt.test_metrics.test_accuracy(bounded_model_dict[1], x_test, y_test)[0]\n",
    "\n",
    "# compute accuracy using the smooth sensitivity Cauchy mechanism\n",
    "smooth_sens_noise_level = agt.privacy_utils.get_calibrated_noise_level(\n",
    "    x_test, bounded_model_dict, epsilon, noise_type=\"cauchy\"\n",
    ")\n",
    "smooth_sens_acc = agt.privacy_utils.noisy_test_accuracy(\n",
    "    bounded_model_dict[1], x_test, y_test, noise_level=smooth_sens_noise_level, noise_type=\"cauchy\"\n",
    ")\n",
    "\n",
    "\n",
    "# compute accuracy when using the global sensitivity mechanism\n",
    "global_sens_acc = agt.privacy_utils.noisy_test_accuracy(\n",
    "    bounded_model_dict[1], x_test, y_test, noise_level=1.0 / epsilon\n",
    ")\n",
    "\n",
    "print(f\"Noise Free Accuracy: {noise_free_acc:.2f}\")\n",
    "print(f\"Smooth Sensitivity Accuracy: {smooth_sens_acc:.2f}\")\n",
    "print(f\"Global Sensitivity Accuracy: {global_sens_acc:.2f}\")"
   ]
  },
  {
   "cell_type": "code",
   "execution_count": null,
   "id": "44a5e7d6",
   "metadata": {},
   "outputs": [
    {
     "name": "stderr",
     "output_type": "stream",
     "text": [
      "[AGT] [INFO    ] [03:30:35] =================== Starting Privacy Certified Training ===================\n",
      "[AGT] [INFO    ] [03:30:35] Starting epoch 1\n"
     ]
    },
    {
     "name": "stdout",
     "output_type": "stream",
     "text": [
      "Batch content: 6\n"
     ]
    },
    {
     "name": "stderr",
     "output_type": "stream",
     "text": [
      "[AGT] [INFO    ] [03:30:35] Batch 1. Loss (accuracy): 0.460 <= 0.460 <= 0.460\n",
      "[AGT] [INFO    ] [03:30:36] Starting epoch 2\n",
      "[AGT] [INFO    ] [03:30:36] Batch 2. Loss (accuracy): 0.496 <= 0.498 <= 0.944\n",
      "[AGT] [INFO    ] [03:30:37] Batch 3. Loss (accuracy): 0.000 <= 0.896 <= 1.000\n",
      "[AGT] [INFO    ] [03:30:38] Final Eval. Loss (accuracy): 0.000 <= 0.898 <= 1.000\n",
      "[AGT] [INFO    ] [03:30:38] =================== Finished Privacy Certified Training ===================\n",
      "[AGT] [INFO    ] [03:30:38] =================== Starting Privacy Certified Training ===================\n",
      "[AGT] [INFO    ] [03:30:38] Starting epoch 1\n"
     ]
    },
    {
     "name": "stdout",
     "output_type": "stream",
     "text": [
      "Batch content: 6\n"
     ]
    },
    {
     "name": "stderr",
     "output_type": "stream",
     "text": [
      "[AGT] [INFO    ] [03:30:38] Batch 1. Loss (accuracy): 0.460 <= 0.460 <= 0.460\n",
      "[AGT] [INFO    ] [03:30:39] Starting epoch 2\n",
      "[AGT] [INFO    ] [03:30:39] Batch 2. Loss (accuracy): 0.498 <= 0.498 <= 0.498\n",
      "[AGT] [INFO    ] [03:30:40] Batch 3. Loss (accuracy): 0.582 <= 0.782 <= 0.920\n",
      "[AGT] [INFO    ] [03:30:41] Final Eval. Loss (accuracy): 0.582 <= 0.912 <= 0.982\n",
      "[AGT] [INFO    ] [03:30:41] =================== Finished Privacy Certified Training ===================\n"
     ]
    },
    {
     "ename": "",
     "evalue": "",
     "output_type": "error",
     "traceback": [
      "\u001b[1;31mnotebook controller is DISPOSED. \n",
      "\u001b[1;31mView Jupyter <a href='command:jupyter.viewOutput'>log</a> for further details."
     ]
    }
   ],
   "source": [
    "# \"\"\"Initialise a large model (which will be random here but would be a pre-trained model in practice).\"\"\"\n",
    "# model = torch.nn.Sequential(\n",
    "#     torch.nn.Linear(7, 128),\n",
    "#     torch.nn.ReLU(),\n",
    "#     torch.nn.Linear(128, 128),\n",
    "#     torch.nn.ReLU(),\n",
    "#     torch.nn.Linear(128, 128),\n",
    "#     torch.nn.ReLU(),\n",
    "#     torch.nn.Linear(128, 2)\n",
    "# )\n",
    "# config = agt.AGTConfig(\n",
    "#     learning_rate=0.5,\n",
    "#     n_epochs=2,\n",
    "#     loss=\"cross_entropy\",\n",
    "#     log_level=\"INFO\",\n",
    "#     device=\"cuda:0\",\n",
    "#     clip_gamma=0.1,\n",
    "#     k_private=10\n",
    "# )\n",
    "\n",
    "# # first try training the whole thing - observe that the certified accuracy goes to zero\n",
    "# bounded_model = agt.bounded_models.IntervalBoundedModel(model)\n",
    "# bounded_model = agt.privacy_certified_training_user_level(bounded_model, config, dataloader_train, dataloader_test)\n",
    "\n",
    "# # second, split the model into a fixed part and a trainable part\n",
    "# fixed_layers, trainable_layers = model[:4], model[4:]\n",
    "# # wrap both in bounded models, using the first as the 'transform' argument to the second\n",
    "# transform = agt.bounded_models.IntervalBoundedModel(fixed_layers, trainable=False)\n",
    "# bounded_model = agt.bounded_models.IntervalBoundedModel(trainable_layers, transform=transform)\n",
    "# # train the model\n",
    "# bounded_model = agt.privacy_certified_training_user_level(bounded_model, config, dataloader_train, dataloader_test)"
   ]
  }
 ],
 "metadata": {
  "kernelspec": {
   "display_name": ".venv",
   "language": "python",
   "name": "python3"
  },
  "language_info": {
   "codemirror_mode": {
    "name": "ipython",
    "version": 3
   },
   "file_extension": ".py",
   "mimetype": "text/x-python",
   "name": "python",
   "nbconvert_exporter": "python",
   "pygments_lexer": "ipython3",
   "version": "3.10.12"
  }
 },
 "nbformat": 4,
 "nbformat_minor": 5
}
