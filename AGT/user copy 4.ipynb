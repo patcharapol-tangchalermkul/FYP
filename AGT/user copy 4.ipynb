{
 "cells": [
  {
   "cell_type": "code",
   "execution_count": 1,
   "id": "5dabb954",
   "metadata": {},
   "outputs": [],
   "source": [
    "%load_ext autoreload\n",
    "%autoreload 2\n",
    "import torch\n",
    "import torch.utils.data\n",
    "import numpy as np\n",
    "import sklearn.datasets\n",
    "import sklearn.model_selection\n",
    "import matplotlib.pyplot as plt\n",
    "\n",
    "import abstract_gradient_training as agt"
   ]
  },
  {
   "cell_type": "code",
   "execution_count": 12,
   "id": "013b54a3",
   "metadata": {},
   "outputs": [
    {
     "name": "stdout",
     "output_type": "stream",
     "text": [
      "tensor([[-2.4463e-01,  1.2345e+00,  5.9844e-02,  ..., -3.0201e-01,\n",
      "         -1.4640e-02,  1.8816e+00],\n",
      "        [-2.7318e-01,  9.9215e-01,  7.4629e-02,  ..., -2.7104e-01,\n",
      "         -2.0387e-02,  9.7664e-01],\n",
      "        [ 5.7304e-01, -3.0041e-01,  3.2838e-01,  ..., -1.7215e-01,\n",
      "          1.8818e-01, -2.7111e-02],\n",
      "        ...,\n",
      "        [ 1.4969e+00, -4.1833e-01,  2.2406e+00,  ..., -6.2618e-01,\n",
      "          3.3539e+00, -7.3208e-02],\n",
      "        [ 1.0810e-01,  3.1200e-01,  1.1685e-02,  ...,  3.3727e-02,\n",
      "          1.2631e-03,  3.0373e-02],\n",
      "        [ 2.0311e+00,  2.2804e-01,  4.1254e+00,  ...,  4.6316e-01,\n",
      "          8.3790e+00,  1.1858e-02]])\n",
      "tensor([1, 1, 1,  ..., 1, 1, 1])\n"
     ]
    }
   ],
   "source": [
    "\"\"\"Initialise the halfmoons training data.\"\"\"\n",
    "seed = 0\n",
    "batchsize = 500000  # number of samples per batch\n",
    "test_size = 50000\n",
    "n_users = 1\n",
    "# batchsize = 3  # number of samples per batch\n",
    "# test_size = 1\n",
    "# n_users = 1\n",
    "n_batches = 2  # number of batches per epoch\n",
    "n_epochs = 5  # number of epochs\n",
    "\n",
    "torch.manual_seed(seed)\n",
    "# load the dataset\n",
    "x, y = sklearn.datasets.make_moons(noise=0.1, n_samples=n_batches*batchsize + test_size, random_state=seed)\n",
    "# to make it easier to train, we'll space the moons out a bit and add some polynomial features\n",
    "x[y==0, 1] += 0.2\n",
    "x = np.hstack((x, x**2, (x[:, 0] * x[:, 1])[:, None], x**3))\n",
    "# # perform a test-train split\n",
    "# x_train, x_test, y_train, y_test = sklearn.model_selection.train_test_split(\n",
    "#     x, y, test_size=test_size / (n_batches*batchsize + test_size), random_state=seed\n",
    "# )\n",
    "\n",
    "# # convert into pytorch dataloaders\n",
    "# x_train, y_train = torch.from_numpy(x_train).float(), torch.from_numpy(y_train)\n",
    "# x_test, y_test = torch.from_numpy(x_test).float(), torch.from_numpy(y_test)\n",
    "# dataset_train = torch.utils.data.TensorDataset(x_train, y_train)\n",
    "# dataset_test = torch.utils.data.TensorDataset(x_test, y_test)\n",
    "# dataloader_train = torch.utils.data.DataLoader(dataset_train, batch_size=batchsize, shuffle=True)\n",
    "# dataloader_test = torch.utils.data.DataLoader(dataset_test, batch_size=batchsize, shuffle=False)\n",
    "\n",
    "\n",
    "# Assign random users 1–4 to each datapoint\n",
    "user_labels = np.random.randint(1, n_users + 1, size=len(x))\n",
    "\n",
    "# Train-test split\n",
    "x_train, x_test, y_train, y_test, user_train, user_test = sklearn.model_selection.train_test_split(\n",
    "    x, y, user_labels, test_size=test_size / (n_batches * batchsize + test_size), random_state=seed\n",
    ")\n",
    "\n",
    "# Convert to PyTorch tensors\n",
    "x_train = torch.from_numpy(x_train).float()\n",
    "x_test = torch.from_numpy(x_test).float()\n",
    "y_train = torch.from_numpy(y_train)\n",
    "y_test = torch.from_numpy(y_test)\n",
    "user_train = torch.from_numpy(user_train)\n",
    "user_test = torch.from_numpy(user_test)\n",
    "\n",
    "# Combine inputs and both labels into TensorDatasets\n",
    "dataset_train = torch.utils.data.TensorDataset(x_train, user_train, y_train)\n",
    "dataset_test = torch.utils.data.TensorDataset(x_test, user_test, y_test)\n",
    "\n",
    "print(x_train)\n",
    "print(user_train)\n",
    "\n",
    "# Create DataLoaders\n",
    "dataloader_train = torch.utils.data.DataLoader(dataset_train, batch_size=batchsize, shuffle=True)\n",
    "dataloader_test = torch.utils.data.DataLoader(dataset_test, batch_size=batchsize, shuffle=False)\n",
    "\n",
    "\n",
    "# for batch_idx, (inputs, user_labels, targets) in enumerate(dataloader_train):\n",
    "#     if batch_idx >= 2:  # Print only the first 2 batches\n",
    "#         break\n",
    "#     print(f\"Batch {batch_idx + 1}:\")\n",
    "#     print(\"Inputs:\")\n",
    "#     print(inputs)  # This will show the features (x)\n",
    "#     print(\"User Labels:\")\n",
    "#     print(user_labels)  # This will show the random user labels\n",
    "#     print(\"Targets:\")\n",
    "#     print(targets)  # This will show the target labels (y)\n",
    "#     print(\"=\"*50)"
   ]
  },
  {
   "cell_type": "markdown",
   "id": "f8427ca0",
   "metadata": {},
   "source": []
  },
  {
   "cell_type": "code",
   "execution_count": null,
   "id": "2e42f0d8",
   "metadata": {},
   "outputs": [
    {
     "name": "stdout",
     "output_type": "stream",
     "text": [
      "Shape of batch: torch.Size([500000, 7]), users: torch.Size([500000]), labels: torch.Size([500000])\n",
      "Unique users: tensor([1]), Inverse indices: tensor([0, 0, 0,  ..., 0, 0, 0])\n",
      "Shape of batch: torch.Size([500000, 7]), users: torch.Size([500000]), labels: torch.Size([500000])\n",
      "Unique users: tensor([1]), Inverse indices: tensor([0, 0, 0,  ..., 0, 0, 0])\n",
      "Shape of batch: torch.Size([500000, 7]), users: torch.Size([500000]), labels: torch.Size([500000])\n",
      "Unique users: tensor([1]), Inverse indices: tensor([0, 0, 0,  ..., 0, 0, 0])\n",
      "Shape of batch: torch.Size([500000, 7]), users: torch.Size([500000]), labels: torch.Size([500000])\n",
      "Unique users: tensor([1]), Inverse indices: tensor([0, 0, 0,  ..., 0, 0, 0])\n",
      "Shape of batch: torch.Size([500000, 7]), users: torch.Size([500000]), labels: torch.Size([500000])\n",
      "Unique users: tensor([1]), Inverse indices: tensor([0, 0, 0,  ..., 0, 0, 0])\n",
      "Shape of batch: torch.Size([500000, 7]), users: torch.Size([500000]), labels: torch.Size([500000])\n",
      "Unique users: tensor([1]), Inverse indices: tensor([0, 0, 0,  ..., 0, 0, 0])\n",
      "Shape of batch: torch.Size([500000, 7]), users: torch.Size([500000]), labels: torch.Size([500000])\n",
      "Unique users: tensor([1]), Inverse indices: tensor([0, 0, 0,  ..., 0, 0, 0])\n",
      "Shape of batch: torch.Size([500000, 7]), users: torch.Size([500000]), labels: torch.Size([500000])\n",
      "Unique users: tensor([1]), Inverse indices: tensor([0, 0, 0,  ..., 0, 0, 0])\n",
      "Shape of batch: torch.Size([500000, 7]), users: torch.Size([500000]), labels: torch.Size([500000])\n",
      "Unique users: tensor([1]), Inverse indices: tensor([0, 0, 0,  ..., 0, 0, 0])\n",
      "Shape of batch: torch.Size([500000, 7]), users: torch.Size([500000]), labels: torch.Size([500000])\n",
      "Unique users: tensor([1]), Inverse indices: tensor([0, 0, 0,  ..., 0, 0, 0])\n",
      "Certified Predictions at k=1: 1.00\n"
     ]
    }
   ],
   "source": [
    "import importlib\n",
    "importlib.reload(agt)\n",
    "\"\"\"Let's train a logistic classifier on the halfmoons example above.\"\"\"\n",
    "# model = torch.nn.Sequential(torch.nn.Linear(7, 2))\n",
    "torch.manual_seed(1)\n",
    "model = torch.nn.Sequential(\n",
    "    torch.nn.Linear(7, 128),\n",
    "    torch.nn.ReLU(),\n",
    "    torch.nn.Linear(128, 2),\n",
    ")\n",
    "\"\"\"Set up the configuration for AGT.\"\"\"\n",
    "config = agt.AGTConfig(\n",
    "    learning_rate=0.5,\n",
    "    n_epochs=4,\n",
    "    loss=\"cross_entropy\",\n",
    "    log_level=\"DEBUG\",\n",
    "    k_poison=10,\n",
    "    epsilon=0.01, \n",
    "    device=\"cuda:0\",\n",
    ")\n",
    "k_values = [1]  # using more values here will improve the guarantees AGT will give\n",
    "bounded_model_dict = {}  # we'll store our results for each value of 'k' as a dictionary from 'k' to the bounded model\n",
    "\n",
    "for k_private in k_values:\n",
    "    config.k_private=k_private\n",
    "    torch.manual_seed(seed)\n",
    "    bounded_model = agt.bounded_models.IntervalBoundedModel(model)\n",
    "    bounded_model = agt.privacy_certified_training_user_level(bounded_model, config, dataloader_train)\n",
    "    bounded_model_dict[k_private] = bounded_model\n",
    "    \n",
    "    # as a metric, compute the number of predictions in the test set certified at this value of k_private\n",
    "    certified_preds = agt.test_metrics.certified_predictions(bounded_model, x_test)\n",
    "    print(f\"Certified Predictions at k={k_private}: {certified_preds:.2f}\")"
   ]
  },
  {
   "cell_type": "code",
   "execution_count": 18,
   "id": "87a2ea68",
   "metadata": {},
   "outputs": [
    {
     "name": "stdout",
     "output_type": "stream",
     "text": [
      "Noise Free Accuracy: 0.31\n",
      "Smooth Sensitivity Accuracy: 0.31\n",
      "Global Sensitivity Accuracy: 0.46\n"
     ]
    }
   ],
   "source": [
    "\"\"\"Let's use this set of bounded models to for better private prediction using the smooth sensitivity mechanism.\"\"\"\n",
    "\n",
    "epsilon = 0.5  # privacy loss\n",
    "noise_free_acc = agt.test_metrics.test_accuracy(bounded_model_dict[1], x_test, y_test)[0]\n",
    "\n",
    "# compute accuracy using the smooth sensitivity Cauchy mechanism\n",
    "smooth_sens_noise_level = agt.privacy_utils.get_calibrated_noise_level(\n",
    "    x_test, bounded_model_dict, epsilon, noise_type=\"cauchy\"\n",
    ")\n",
    "smooth_sens_acc = agt.privacy_utils.noisy_test_accuracy(\n",
    "    bounded_model_dict[1], x_test, y_test, noise_level=smooth_sens_noise_level, noise_type=\"cauchy\"\n",
    ")\n",
    "smooth_sens_acc = agt.privacy_utils.noisy_test_accuracy(\n",
    "    bounded_model_dict[1], x_test, y_test, noise_level=0, noise_type=\"cauchy\"\n",
    ")\n",
    "\n",
    "\n",
    "# compute accuracy when using the global sensitivity mechanism\n",
    "global_sens_acc = agt.privacy_utils.noisy_test_accuracy(\n",
    "    bounded_model_dict[1], x_test, y_test, noise_level=1.0 / epsilon\n",
    ")\n",
    "\n",
    "print(f\"Noise Free Accuracy: {noise_free_acc:.2f}\")\n",
    "print(f\"Smooth Sensitivity Accuracy: {smooth_sens_acc:.2f}\")\n",
    "print(f\"Global Sensitivity Accuracy: {global_sens_acc:.2f}\")"
   ]
  },
  {
   "cell_type": "code",
   "execution_count": null,
   "id": "44a5e7d6",
   "metadata": {},
   "outputs": [
    {
     "name": "stderr",
     "output_type": "stream",
     "text": [
      "[AGT] [INFO    ] [03:30:35] =================== Starting Privacy Certified Training ===================\n",
      "[AGT] [INFO    ] [03:30:35] Starting epoch 1\n"
     ]
    },
    {
     "name": "stdout",
     "output_type": "stream",
     "text": [
      "Batch content: 6\n"
     ]
    },
    {
     "name": "stderr",
     "output_type": "stream",
     "text": [
      "[AGT] [INFO    ] [03:30:35] Batch 1. Loss (accuracy): 0.460 <= 0.460 <= 0.460\n",
      "[AGT] [INFO    ] [03:30:36] Starting epoch 2\n",
      "[AGT] [INFO    ] [03:30:36] Batch 2. Loss (accuracy): 0.496 <= 0.498 <= 0.944\n",
      "[AGT] [INFO    ] [03:30:37] Batch 3. Loss (accuracy): 0.000 <= 0.896 <= 1.000\n",
      "[AGT] [INFO    ] [03:30:38] Final Eval. Loss (accuracy): 0.000 <= 0.898 <= 1.000\n",
      "[AGT] [INFO    ] [03:30:38] =================== Finished Privacy Certified Training ===================\n",
      "[AGT] [INFO    ] [03:30:38] =================== Starting Privacy Certified Training ===================\n",
      "[AGT] [INFO    ] [03:30:38] Starting epoch 1\n"
     ]
    },
    {
     "name": "stdout",
     "output_type": "stream",
     "text": [
      "Batch content: 6\n"
     ]
    },
    {
     "name": "stderr",
     "output_type": "stream",
     "text": [
      "[AGT] [INFO    ] [03:30:38] Batch 1. Loss (accuracy): 0.460 <= 0.460 <= 0.460\n",
      "[AGT] [INFO    ] [03:30:39] Starting epoch 2\n",
      "[AGT] [INFO    ] [03:30:39] Batch 2. Loss (accuracy): 0.498 <= 0.498 <= 0.498\n",
      "[AGT] [INFO    ] [03:30:40] Batch 3. Loss (accuracy): 0.582 <= 0.782 <= 0.920\n",
      "[AGT] [INFO    ] [03:30:41] Final Eval. Loss (accuracy): 0.582 <= 0.912 <= 0.982\n",
      "[AGT] [INFO    ] [03:30:41] =================== Finished Privacy Certified Training ===================\n"
     ]
    },
    {
     "ename": "",
     "evalue": "",
     "output_type": "error",
     "traceback": [
      "\u001b[1;31mnotebook controller is DISPOSED. \n",
      "\u001b[1;31mView Jupyter <a href='command:jupyter.viewOutput'>log</a> for further details."
     ]
    }
   ],
   "source": [
    "# \"\"\"Initialise a large model (which will be random here but would be a pre-trained model in practice).\"\"\"\n",
    "# model = torch.nn.Sequential(\n",
    "#     torch.nn.Linear(7, 128),\n",
    "#     torch.nn.ReLU(),\n",
    "#     torch.nn.Linear(128, 128),\n",
    "#     torch.nn.ReLU(),\n",
    "#     torch.nn.Linear(128, 128),\n",
    "#     torch.nn.ReLU(),\n",
    "#     torch.nn.Linear(128, 2)\n",
    "# )\n",
    "# config = agt.AGTConfig(\n",
    "#     learning_rate=0.5,\n",
    "#     n_epochs=2,\n",
    "#     loss=\"cross_entropy\",\n",
    "#     log_level=\"INFO\",\n",
    "#     device=\"cuda:0\",\n",
    "#     clip_gamma=0.1,\n",
    "#     k_private=10\n",
    "# )\n",
    "\n",
    "# # first try training the whole thing - observe that the certified accuracy goes to zero\n",
    "# bounded_model = agt.bounded_models.IntervalBoundedModel(model)\n",
    "# bounded_model = agt.privacy_certified_training_user_level(bounded_model, config, dataloader_train, dataloader_test)\n",
    "\n",
    "# # second, split the model into a fixed part and a trainable part\n",
    "# fixed_layers, trainable_layers = model[:4], model[4:]\n",
    "# # wrap both in bounded models, using the first as the 'transform' argument to the second\n",
    "# transform = agt.bounded_models.IntervalBoundedModel(fixed_layers, trainable=False)\n",
    "# bounded_model = agt.bounded_models.IntervalBoundedModel(trainable_layers, transform=transform)\n",
    "# # train the model\n",
    "# bounded_model = agt.privacy_certified_training_user_level(bounded_model, config, dataloader_train, dataloader_test)"
   ]
  }
 ],
 "metadata": {
  "kernelspec": {
   "display_name": ".venv",
   "language": "python",
   "name": "python3"
  },
  "language_info": {
   "codemirror_mode": {
    "name": "ipython",
    "version": 3
   },
   "file_extension": ".py",
   "mimetype": "text/x-python",
   "name": "python",
   "nbconvert_exporter": "python",
   "pygments_lexer": "ipython3",
   "version": "3.10.12"
  }
 },
 "nbformat": 4,
 "nbformat_minor": 5
}
